{
 "cells": [
  {
   "cell_type": "code",
   "execution_count": 1,
   "metadata": {},
   "outputs": [],
   "source": [
    "import pandas as pd\n",
    "import numpy as np \n",
    "import seaborn as sns\n",
    "import matplotlib.pyplot as plt\n",
    "import math\n",
    "import warnings \n",
    "warnings.filterwarnings(\"ignore\")\n",
    "import os\n",
    "import nltk\n",
    "import re\n",
    "import json\n",
    "from tqdm import tqdm\n",
    "import zipfile\n",
    "from nltk.stem import WordNetLemmatizer\n",
    "from sklearn.metrics import confusion_matrix, accuracy_score, f1_score, classification_report\n",
    "from sklearn.metrics import mean_squared_error\n",
    "from sklearn.metrics import mean_absolute_percentage_error\n",
    "from sklearn.metrics import mean_absolute_error\n",
    "from sklearn.model_selection import GridSearchCV, train_test_split\n",
    "from sklearn.model_selection import KFold, cross_val_score\n",
    "from sklearn.model_selection import train_test_split"
   ]
  },
  {
   "cell_type": "code",
   "execution_count": 2,
   "metadata": {},
   "outputs": [],
   "source": [
    "train_path = 'train.json'\n",
    "test_path = 'test.json'"
   ]
  },
  {
   "cell_type": "code",
   "execution_count": 3,
   "metadata": {},
   "outputs": [],
   "source": [
    "with open(train_path, encoding='utf-8') as f:\n",
    "    train = json.load(f)\n",
    "\n",
    "with open(test_path, encoding='utf-8') as f:\n",
    "    test = json.load(f)\n",
    "\n",
    "df = pd.DataFrame(train)\n",
    "df_test = pd.DataFrame(test)\n",
    "test_ids = df_test['id']"
   ]
  },
  {
   "cell_type": "markdown",
   "metadata": {},
   "source": [
    "# Exploratory Data Analysis (EDA)"
   ]
  },
  {
   "cell_type": "markdown",
   "metadata": {},
   "source": [
    "    Read Dataset\n",
    "    Perform EDA"
   ]
  },
  {
   "cell_type": "code",
   "execution_count": 4,
   "metadata": {},
   "outputs": [
    {
     "data": {
      "text/html": [
       "<div>\n",
       "<style scoped>\n",
       "    .dataframe tbody tr th:only-of-type {\n",
       "        vertical-align: middle;\n",
       "    }\n",
       "\n",
       "    .dataframe tbody tr th {\n",
       "        vertical-align: top;\n",
       "    }\n",
       "\n",
       "    .dataframe thead th {\n",
       "        text-align: right;\n",
       "    }\n",
       "</style>\n",
       "<table border=\"1\" class=\"dataframe\">\n",
       "  <thead>\n",
       "    <tr style=\"text-align: right;\">\n",
       "      <th></th>\n",
       "      <th>id</th>\n",
       "      <th>cuisine</th>\n",
       "      <th>ingredients</th>\n",
       "    </tr>\n",
       "  </thead>\n",
       "  <tbody>\n",
       "    <tr>\n",
       "      <th>0</th>\n",
       "      <td>10259</td>\n",
       "      <td>greek</td>\n",
       "      <td>[romaine lettuce, black olives, grape tomatoes...</td>\n",
       "    </tr>\n",
       "    <tr>\n",
       "      <th>1</th>\n",
       "      <td>25693</td>\n",
       "      <td>southern_us</td>\n",
       "      <td>[plain flour, ground pepper, salt, tomatoes, g...</td>\n",
       "    </tr>\n",
       "    <tr>\n",
       "      <th>2</th>\n",
       "      <td>20130</td>\n",
       "      <td>filipino</td>\n",
       "      <td>[eggs, pepper, salt, mayonaise, cooking oil, g...</td>\n",
       "    </tr>\n",
       "    <tr>\n",
       "      <th>3</th>\n",
       "      <td>22213</td>\n",
       "      <td>indian</td>\n",
       "      <td>[water, vegetable oil, wheat, salt]</td>\n",
       "    </tr>\n",
       "    <tr>\n",
       "      <th>4</th>\n",
       "      <td>13162</td>\n",
       "      <td>indian</td>\n",
       "      <td>[black pepper, shallots, cornflour, cayenne pe...</td>\n",
       "    </tr>\n",
       "  </tbody>\n",
       "</table>\n",
       "</div>"
      ],
      "text/plain": [
       "      id      cuisine                                        ingredients\n",
       "0  10259        greek  [romaine lettuce, black olives, grape tomatoes...\n",
       "1  25693  southern_us  [plain flour, ground pepper, salt, tomatoes, g...\n",
       "2  20130     filipino  [eggs, pepper, salt, mayonaise, cooking oil, g...\n",
       "3  22213       indian                [water, vegetable oil, wheat, salt]\n",
       "4  13162       indian  [black pepper, shallots, cornflour, cayenne pe..."
      ]
     },
     "execution_count": 4,
     "metadata": {},
     "output_type": "execute_result"
    }
   ],
   "source": [
    "df.head()"
   ]
  },
  {
   "cell_type": "code",
   "execution_count": 5,
   "metadata": {},
   "outputs": [
    {
     "data": {
      "text/html": [
       "<div>\n",
       "<style scoped>\n",
       "    .dataframe tbody tr th:only-of-type {\n",
       "        vertical-align: middle;\n",
       "    }\n",
       "\n",
       "    .dataframe tbody tr th {\n",
       "        vertical-align: top;\n",
       "    }\n",
       "\n",
       "    .dataframe thead th {\n",
       "        text-align: right;\n",
       "    }\n",
       "</style>\n",
       "<table border=\"1\" class=\"dataframe\">\n",
       "  <thead>\n",
       "    <tr style=\"text-align: right;\">\n",
       "      <th></th>\n",
       "      <th>id</th>\n",
       "      <th>cuisine</th>\n",
       "      <th>ingredients</th>\n",
       "    </tr>\n",
       "  </thead>\n",
       "  <tbody>\n",
       "    <tr>\n",
       "      <th>39769</th>\n",
       "      <td>29109</td>\n",
       "      <td>irish</td>\n",
       "      <td>[light brown sugar, granulated sugar, butter, ...</td>\n",
       "    </tr>\n",
       "    <tr>\n",
       "      <th>39770</th>\n",
       "      <td>11462</td>\n",
       "      <td>italian</td>\n",
       "      <td>[KRAFT Zesty Italian Dressing, purple onion, b...</td>\n",
       "    </tr>\n",
       "    <tr>\n",
       "      <th>39771</th>\n",
       "      <td>2238</td>\n",
       "      <td>irish</td>\n",
       "      <td>[eggs, citrus fruit, raisins, sourdough starte...</td>\n",
       "    </tr>\n",
       "    <tr>\n",
       "      <th>39772</th>\n",
       "      <td>41882</td>\n",
       "      <td>chinese</td>\n",
       "      <td>[boneless chicken skinless thigh, minced garli...</td>\n",
       "    </tr>\n",
       "    <tr>\n",
       "      <th>39773</th>\n",
       "      <td>2362</td>\n",
       "      <td>mexican</td>\n",
       "      <td>[green chile, jalapeno chilies, onions, ground...</td>\n",
       "    </tr>\n",
       "  </tbody>\n",
       "</table>\n",
       "</div>"
      ],
      "text/plain": [
       "          id  cuisine                                        ingredients\n",
       "39769  29109    irish  [light brown sugar, granulated sugar, butter, ...\n",
       "39770  11462  italian  [KRAFT Zesty Italian Dressing, purple onion, b...\n",
       "39771   2238    irish  [eggs, citrus fruit, raisins, sourdough starte...\n",
       "39772  41882  chinese  [boneless chicken skinless thigh, minced garli...\n",
       "39773   2362  mexican  [green chile, jalapeno chilies, onions, ground..."
      ]
     },
     "execution_count": 5,
     "metadata": {},
     "output_type": "execute_result"
    }
   ],
   "source": [
    "df.tail()"
   ]
  },
  {
   "cell_type": "code",
   "execution_count": 6,
   "metadata": {},
   "outputs": [
    {
     "data": {
      "text/plain": [
       "(39774, 3)"
      ]
     },
     "execution_count": 6,
     "metadata": {},
     "output_type": "execute_result"
    }
   ],
   "source": [
    "df.shape"
   ]
  },
  {
   "cell_type": "code",
   "execution_count": 7,
   "metadata": {},
   "outputs": [
    {
     "data": {
      "text/plain": [
       "Index(['id', 'cuisine', 'ingredients'], dtype='object')"
      ]
     },
     "execution_count": 7,
     "metadata": {},
     "output_type": "execute_result"
    }
   ],
   "source": [
    "df.columns"
   ]
  },
  {
   "cell_type": "code",
   "execution_count": 8,
   "metadata": {},
   "outputs": [
    {
     "data": {
      "text/plain": [
       "array(['greek', 'southern_us', 'filipino', 'indian', 'jamaican',\n",
       "       'spanish', 'italian', 'mexican', 'chinese', 'british', 'thai',\n",
       "       'vietnamese', 'cajun_creole', 'brazilian', 'french', 'japanese',\n",
       "       'irish', 'korean', 'moroccan', 'russian'], dtype=object)"
      ]
     },
     "execution_count": 8,
     "metadata": {},
     "output_type": "execute_result"
    }
   ],
   "source": [
    "df['cuisine'].unique()"
   ]
  },
  {
   "cell_type": "code",
   "execution_count": 9,
   "metadata": {},
   "outputs": [
    {
     "data": {
      "text/plain": [
       "italian         7838\n",
       "mexican         6438\n",
       "southern_us     4320\n",
       "indian          3003\n",
       "chinese         2673\n",
       "french          2646\n",
       "cajun_creole    1546\n",
       "thai            1539\n",
       "japanese        1423\n",
       "greek           1175\n",
       "spanish          989\n",
       "korean           830\n",
       "vietnamese       825\n",
       "moroccan         821\n",
       "british          804\n",
       "filipino         755\n",
       "irish            667\n",
       "jamaican         526\n",
       "russian          489\n",
       "brazilian        467\n",
       "Name: cuisine, dtype: int64"
      ]
     },
     "execution_count": 9,
     "metadata": {},
     "output_type": "execute_result"
    }
   ],
   "source": [
    "#how many examples we have of each cuisine\n",
    "df[\"cuisine\"].value_counts()"
   ]
  },
  {
   "cell_type": "markdown",
   "metadata": {},
   "source": [
    "Now we are checking for null values in train dataset. We can see we have zero null values."
   ]
  },
  {
   "cell_type": "code",
   "execution_count": 10,
   "metadata": {},
   "outputs": [
    {
     "data": {
      "text/plain": [
       "id             0\n",
       "cuisine        0\n",
       "ingredients    0\n",
       "dtype: int64"
      ]
     },
     "execution_count": 10,
     "metadata": {},
     "output_type": "execute_result"
    }
   ],
   "source": [
    "df.isnull().sum()"
   ]
  },
  {
   "cell_type": "markdown",
   "metadata": {},
   "source": [
    "We are now checking for null values in test dataset. We can see we have zero null values."
   ]
  },
  {
   "cell_type": "code",
   "execution_count": 11,
   "metadata": {},
   "outputs": [
    {
     "data": {
      "text/plain": [
       "id             0\n",
       "ingredients    0\n",
       "dtype: int64"
      ]
     },
     "execution_count": 11,
     "metadata": {},
     "output_type": "execute_result"
    }
   ],
   "source": [
    "df_test.isnull().sum()"
   ]
  },
  {
   "cell_type": "code",
   "execution_count": 12,
   "metadata": {},
   "outputs": [
    {
     "data": {
      "text/plain": [
       "<matplotlib.axes._subplots.AxesSubplot at 0x2cb17a023a0>"
      ]
     },
     "execution_count": 12,
     "metadata": {},
     "output_type": "execute_result"
    },
    {
     "data": {
      "image/png": "[encoded data removed]",
      "text/plain": [
       "<Figure size 1584x720 with 1 Axes>"
      ]
     },
     "metadata": {
      "needs_background": "light"
     },
     "output_type": "display_data"
    }
   ],
   "source": [
    "fig, ax = plt.subplots(figsize=(22,10))\n",
    "df['cuisine'].value_counts().sort_values(ascending=False).head(30).plot.bar(ax = ax)"
   ]
  },
  {
   "cell_type": "code",
   "execution_count": 13,
   "metadata": {},
   "outputs": [],
   "source": [
    "#Takes a lot of time to process, that's why those lines are comments. If you want to run you delete the '#'.\n",
    "#fig, ax = plt.subplots(figsize=(22,10))\n",
    "#df['ingredients'].value_counts().sort_values(ascending=False).head(30).plot.bar(ax = ax)"
   ]
  },
  {
   "cell_type": "code",
   "execution_count": 14,
   "metadata": {},
   "outputs": [
    {
     "data": {
      "text/plain": [
       "<matplotlib.axes._subplots.AxesSubplot at 0x2cb17b5e8e0>"
      ]
     },
     "execution_count": 14,
     "metadata": {},
     "output_type": "execute_result"
    },
    {
     "data": {
      "image/png": "[encoded data removed]",
      "text/plain": [
       "<Figure size 1584x504 with 1 Axes>"
      ]
     },
     "metadata": {
      "needs_background": "light"
     },
     "output_type": "display_data"
    }
   ],
   "source": [
    "fig, ax = plt.subplots(figsize=(22,7))\n",
    "ingredients = []\n",
    "for x in df['ingredients']:\n",
    "    for y in x:\n",
    "        ingredients.append(y)\n",
    "        \n",
    "ingredients = pd.Series(ingredients)\n",
    "ingredients.value_counts().sort_values(ascending=False).head(50).plot.bar(ax = ax)"
   ]
  },
  {
   "cell_type": "markdown",
   "metadata": {},
   "source": [
    "# Preprocessing "
   ]
  },
  {
   "cell_type": "markdown",
   "metadata": {},
   "source": [
    "We are going to apply string preprocessing "
   ]
  },
  {
   "cell_type": "code",
   "execution_count": 15,
   "metadata": {},
   "outputs": [],
   "source": [
    "def lemmatization(string):\n",
    "    string = [\" \".join([WordNetLemmatizer().lemmatize(q) for q in p.split()]) for p in string]\n",
    "    return string"
   ]
  },
  {
   "cell_type": "code",
   "execution_count": 16,
   "metadata": {},
   "outputs": [],
   "source": [
    "def clean_data(string):\n",
    "    x = string\n",
    "    # Remove punctuation\n",
    "    x = list(map(lambda x: re.sub('[,.₺…$%€!?;:\\\"\\']', ' ', x), x))\n",
    "    \n",
    "    #Remove unnecessary numbers\n",
    "    x = list(map(lambda x: re.sub(\"[^a-zA-Z]\", \" \", x), x))\n",
    "    \n",
    "    # Replace \\n with ' '\n",
    "    x = list(map(lambda x: re.sub(r'\\n', ' ', x), x))\n",
    "\n",
    "    # Remove extra space\n",
    "    x = list(map(lambda x: re.sub(r'  ', ' ', x), x))\n",
    "    \n",
    "    # Remove adjectives that are not serving to our purpose\n",
    "    x = list(map(lambda x: re.sub(r'\\(.*oz.\\)|crumbles|sliced|minced|crushed|chopped|ground','', x), x))\n",
    "    \n",
    "    # Convert the titles to lowercase\n",
    "    x = list(map(lambda x: x.lower(), x))\n",
    "    \n",
    "    x = \" \".join(x) \n",
    "    \n",
    "    return x "
   ]
  },
  {
   "cell_type": "code",
   "execution_count": 17,
   "metadata": {},
   "outputs": [],
   "source": [
    "def applying(df):\n",
    "    df = df.drop('id',axis=1)\n",
    "    df['ingredients'] = df['ingredients'].apply(lemmatization)\n",
    "    df['ingredients'] = df['ingredients'].apply(clean_data)\n",
    "    return df"
   ]
  },
  {
   "cell_type": "code",
   "execution_count": 18,
   "metadata": {},
   "outputs": [
    {
     "data": {
      "text/html": [
       "<div>\n",
       "<style scoped>\n",
       "    .dataframe tbody tr th:only-of-type {\n",
       "        vertical-align: middle;\n",
       "    }\n",
       "\n",
       "    .dataframe tbody tr th {\n",
       "        vertical-align: top;\n",
       "    }\n",
       "\n",
       "    .dataframe thead th {\n",
       "        text-align: right;\n",
       "    }\n",
       "</style>\n",
       "<table border=\"1\" class=\"dataframe\">\n",
       "  <thead>\n",
       "    <tr style=\"text-align: right;\">\n",
       "      <th></th>\n",
       "      <th>cuisine</th>\n",
       "      <th>ingredients</th>\n",
       "    </tr>\n",
       "  </thead>\n",
       "  <tbody>\n",
       "    <tr>\n",
       "      <th>0</th>\n",
       "      <td>greek</td>\n",
       "      <td>romaine lettuce black olive grape tomato garli...</td>\n",
       "    </tr>\n",
       "    <tr>\n",
       "      <th>1</th>\n",
       "      <td>southern_us</td>\n",
       "      <td>plain flour  pepper salt tomato  black pepper ...</td>\n",
       "    </tr>\n",
       "    <tr>\n",
       "      <th>2</th>\n",
       "      <td>filipino</td>\n",
       "      <td>egg pepper salt mayonaise cooking oil green ch...</td>\n",
       "    </tr>\n",
       "    <tr>\n",
       "      <th>3</th>\n",
       "      <td>indian</td>\n",
       "      <td>water vegetable oil wheat salt</td>\n",
       "    </tr>\n",
       "    <tr>\n",
       "      <th>4</th>\n",
       "      <td>indian</td>\n",
       "      <td>black pepper shallot cornflour cayenne pepper ...</td>\n",
       "    </tr>\n",
       "  </tbody>\n",
       "</table>\n",
       "</div>"
      ],
      "text/plain": [
       "       cuisine                                        ingredients\n",
       "0        greek  romaine lettuce black olive grape tomato garli...\n",
       "1  southern_us  plain flour  pepper salt tomato  black pepper ...\n",
       "2     filipino  egg pepper salt mayonaise cooking oil green ch...\n",
       "3       indian                     water vegetable oil wheat salt\n",
       "4       indian  black pepper shallot cornflour cayenne pepper ..."
      ]
     },
     "execution_count": 18,
     "metadata": {},
     "output_type": "execute_result"
    }
   ],
   "source": [
    "#if nltk is not available in your enviroment, pls run the code below:\n",
    "#nltk.download('wordnet')\n",
    "df = applying(df)\n",
    "df.head()"
   ]
  },
  {
   "cell_type": "code",
   "execution_count": 19,
   "metadata": {},
   "outputs": [
    {
     "data": {
      "text/html": [
       "<div>\n",
       "<style scoped>\n",
       "    .dataframe tbody tr th:only-of-type {\n",
       "        vertical-align: middle;\n",
       "    }\n",
       "\n",
       "    .dataframe tbody tr th {\n",
       "        vertical-align: top;\n",
       "    }\n",
       "\n",
       "    .dataframe thead th {\n",
       "        text-align: right;\n",
       "    }\n",
       "</style>\n",
       "<table border=\"1\" class=\"dataframe\">\n",
       "  <thead>\n",
       "    <tr style=\"text-align: right;\">\n",
       "      <th></th>\n",
       "      <th>ingredients</th>\n",
       "    </tr>\n",
       "  </thead>\n",
       "  <tbody>\n",
       "    <tr>\n",
       "      <th>0</th>\n",
       "      <td>baking powder egg all purpose flour raisin mil...</td>\n",
       "    </tr>\n",
       "    <tr>\n",
       "      <th>1</th>\n",
       "      <td>sugar egg yolk corn starch cream of tartar ban...</td>\n",
       "    </tr>\n",
       "    <tr>\n",
       "      <th>2</th>\n",
       "      <td>sausage link fennel bulb frond olive oil cuban...</td>\n",
       "    </tr>\n",
       "    <tr>\n",
       "      <th>3</th>\n",
       "      <td>meat cut file powder smoked sausage okra shrim...</td>\n",
       "    </tr>\n",
       "    <tr>\n",
       "      <th>4</th>\n",
       "      <td>black pepper salt sausage casing leek parmigi...</td>\n",
       "    </tr>\n",
       "  </tbody>\n",
       "</table>\n",
       "</div>"
      ],
      "text/plain": [
       "                                         ingredients\n",
       "0  baking powder egg all purpose flour raisin mil...\n",
       "1  sugar egg yolk corn starch cream of tartar ban...\n",
       "2  sausage link fennel bulb frond olive oil cuban...\n",
       "3  meat cut file powder smoked sausage okra shrim...\n",
       "4   black pepper salt sausage casing leek parmigi..."
      ]
     },
     "execution_count": 19,
     "metadata": {},
     "output_type": "execute_result"
    }
   ],
   "source": [
    "#Applying the same process to our test data. \n",
    "df_test = applying(df_test)\n",
    "df_test.head()\n",
    "#By doing so, our preprocessing is done. "
   ]
  },
  {
   "cell_type": "code",
   "execution_count": 20,
   "metadata": {},
   "outputs": [],
   "source": [
    "train = df['ingredients']\n",
    "test = df_test['ingredients']\n",
    "target = df['cuisine']"
   ]
  },
  {
   "cell_type": "code",
   "execution_count": 21,
   "metadata": {},
   "outputs": [
    {
     "data": {
      "text/plain": [
       "'romaine lettuce black olive grape tomato garlic pepper purple onion seasoning garbanzo bean feta cheese '"
      ]
     },
     "execution_count": 21,
     "metadata": {},
     "output_type": "execute_result"
    }
   ],
   "source": [
    "df['ingredients'][0]"
   ]
  },
  {
   "cell_type": "code",
   "execution_count": 22,
   "metadata": {},
   "outputs": [
    {
     "data": {
      "text/plain": [
       "0       baking powder egg all purpose flour raisin mil...\n",
       "1       sugar egg yolk corn starch cream of tartar ban...\n",
       "2       sausage link fennel bulb frond olive oil cuban...\n",
       "3       meat cut file powder smoked sausage okra shrim...\n",
       "4        black pepper salt sausage casing leek parmigi...\n",
       "                              ...                        \n",
       "9939    large egg yolk fresh lemon juice sugar bourbon...\n",
       "9940       hot sauce butter sweet potato adobo sauce salt\n",
       "9941    black pepper salt parmigiano reggiano cheese r...\n",
       "9942    cheddar cheese cayenne paprika plum tomato gre...\n",
       "9943    cold water olive oil lime wedge garlic clove b...\n",
       "Name: ingredients, Length: 9944, dtype: object"
      ]
     },
     "execution_count": 22,
     "metadata": {},
     "output_type": "execute_result"
    }
   ],
   "source": [
    "df_test['ingredients']"
   ]
  },
  {
   "cell_type": "code",
   "execution_count": 23,
   "metadata": {},
   "outputs": [],
   "source": [
    "def debugging_purpose(df):\n",
    "    ingredients = []\n",
    "    for x in df['ingredients']:\n",
    "        print(x)\n",
    "        for y in x:\n",
    "            ingredients.append(y)\n",
    "\n",
    "#debugging_purpose(df)"
   ]
  },
  {
   "cell_type": "code",
   "execution_count": 24,
   "metadata": {},
   "outputs": [],
   "source": [
    "# extracting the labels from the train data\n",
    "y = df.cuisine.values\n",
    "\n",
    "# %70 for training, %30 for test\n",
    "x_train, x_test, y_train, y_test = train_test_split(df.ingredients.values, y, \n",
    "                                                    stratify=y, \n",
    "                                                    random_state=1, \n",
    "                                                    test_size=0.3, shuffle=True)"
   ]
  },
  {
   "cell_type": "code",
   "execution_count": 25,
   "metadata": {},
   "outputs": [
    {
     "data": {
      "text/plain": [
       "20"
      ]
     },
     "execution_count": 25,
     "metadata": {},
     "output_type": "execute_result"
    }
   ],
   "source": [
    "len(target.unique())"
   ]
  },
  {
   "cell_type": "markdown",
   "metadata": {},
   "source": [
    "# Count Vectorizer"
   ]
  },
  {
   "cell_type": "markdown",
   "metadata": {},
   "source": [
    "We should be vectorizing our data since we are going to use Support Vector Machine later on."
   ]
  },
  {
   "cell_type": "code",
   "execution_count": null,
   "metadata": {},
   "outputs": [],
   "source": [
    "from sklearn.feature_extraction.text import CountVectorizer \n",
    "from pandas import DataFrame"
   ]
  },
  {
   "cell_type": "code",
   "execution_count": null,
   "metadata": {},
   "outputs": [],
   "source": [
    "def create_vect(document, vectorizer):\n",
    "    document = vectorizer.fit_transform(document)\n",
    "    return DataFrame(document.toarray(), columns=vectorizer.get_feature_names()), document"
   ]
  },
  {
   "cell_type": "code",
   "execution_count": null,
   "metadata": {},
   "outputs": [],
   "source": [
    "count_vect = CountVectorizer()"
   ]
  },
  {
   "cell_type": "code",
   "execution_count": null,
   "metadata": {},
   "outputs": [],
   "source": [
    "countV, train_countV = create_vect(train, count_vect)\n",
    "#as we can see here, we have some number values too. This is our count vector matrix. "
   ]
  },
  {
   "cell_type": "code",
   "execution_count": null,
   "metadata": {},
   "outputs": [],
   "source": [
    "countV.head(25)"
   ]
  },
  {
   "cell_type": "markdown",
   "metadata": {},
   "source": [
    "# TF-IDF Vectorizer"
   ]
  },
  {
   "cell_type": "markdown",
   "metadata": {},
   "source": [
    "We are vectorizing our data by their frequencies in order to use for Support Vector Machine."
   ]
  },
  {
   "cell_type": "code",
   "execution_count": 26,
   "metadata": {},
   "outputs": [],
   "source": [
    "from sklearn.feature_extraction.text import TfidfVectorizer "
   ]
  },
  {
   "cell_type": "code",
   "execution_count": 27,
   "metadata": {},
   "outputs": [],
   "source": [
    "def tfidf_vectorizer(train, test=None):\n",
    "    tfidf = TfidfVectorizer(stop_words='english',\n",
    "                             ngram_range = ( 1 , 1 ), analyzer=\"word\", \n",
    "                             max_df = .57, binary=False , token_pattern=r'\\w+' , sublinear_tf=False)\n",
    "    train = tfidf.fit_transform(train)\n",
    "    test = tfidf.transform(test)\n",
    "    return train, test, tfidf"
   ]
  },
  {
   "cell_type": "code",
   "execution_count": 28,
   "metadata": {},
   "outputs": [],
   "source": [
    "train_tfidf, test_tfidf, tfidf = tfidf_vectorizer(x_train,x_test)"
   ]
  },
  {
   "cell_type": "code",
   "execution_count": null,
   "metadata": {},
   "outputs": [],
   "source": [
    "# only for showing purposes \n",
    "show_tfidf = TfidfVectorizer()\n",
    "#show_tfidf, train_tf2 = create_vect(train, show_tfidf)\n",
    "#show_tfidf.head(20)"
   ]
  },
  {
   "cell_type": "code",
   "execution_count": null,
   "metadata": {},
   "outputs": [],
   "source": [
    "#show_tfidf.tail(20)"
   ]
  },
  {
   "cell_type": "markdown",
   "metadata": {},
   "source": [
    "# Model Development: Support Vector Machine"
   ]
  },
  {
   "cell_type": "code",
   "execution_count": 95,
   "metadata": {},
   "outputs": [],
   "source": [
    "from sklearn.svm import LinearSVC, SVC \n",
    "from scipy import sparse"
   ]
  },
  {
   "cell_type": "markdown",
   "metadata": {},
   "source": [
    "I am going to use the TF-IDF vector. So count vector is not necessariy in here. "
   ]
  },
  {
   "cell_type": "code",
   "execution_count": 96,
   "metadata": {},
   "outputs": [],
   "source": [
    "x_train = train_tfidf\n",
    "x_test = test_tfidf\n",
    "param_grid = {'C': [0.001, 0.1, 1, 10, 50, 100, 500, 1000, 5000], 'penalty': ['l1','l2'],\n",
    "             'loss': ['hinge','squared hinge']} \n",
    "\n",
    "grid = GridSearchCV(LinearSVC(), param_grid, refit = True, verbose = 3, n_jobs=-1, scoring='f1_micro')"
   ]
  },
  {
   "cell_type": "code",
   "execution_count": 97,
   "metadata": {
    "scrolled": true
   },
   "outputs": [
    {
     "name": "stdout",
     "output_type": "stream",
     "text": [
      "Fitting 5 folds for each of 36 candidates, totalling 180 fits\n",
      "Wall time: 2min 38s\n"
     ]
    },
    {
     "data": {
      "text/plain": [
       "GridSearchCV(estimator=LinearSVC(), n_jobs=-1,\n",
       "             param_grid={'C': [0.001, 0.1, 1, 10, 50, 100, 500, 1000, 5000],\n",
       "                         'loss': ['hinge', 'squared hinge'],\n",
       "                         'penalty': ['l1', 'l2']},\n",
       "             scoring='f1_micro', verbose=3)"
      ]
     },
     "execution_count": 97,
     "metadata": {},
     "output_type": "execute_result"
    }
   ],
   "source": [
    "%%time\n",
    "grid.fit(x_train, y_train) "
   ]
  },
  {
   "cell_type": "code",
   "execution_count": 98,
   "metadata": {},
   "outputs": [
    {
     "data": {
      "text/plain": [
       "{'C': 1, 'loss': 'hinge', 'penalty': 'l2'}"
      ]
     },
     "execution_count": 98,
     "metadata": {},
     "output_type": "execute_result"
    }
   ],
   "source": [
    "grid.best_params_"
   ]
  },
  {
   "cell_type": "code",
   "execution_count": 99,
   "metadata": {},
   "outputs": [
    {
     "data": {
      "text/plain": [
       "0.7801068510370837"
      ]
     },
     "execution_count": 99,
     "metadata": {},
     "output_type": "execute_result"
    }
   ],
   "source": [
    "grid.best_score_"
   ]
  },
  {
   "cell_type": "code",
   "execution_count": 100,
   "metadata": {},
   "outputs": [],
   "source": [
    "#C is the penalty = cost \n",
    "#corresponding coefficient = gamma \n",
    "def evalfn(C, gamma):\n",
    "    s = SVC(C=float(C), gamma=float(gamma), kernel='rbf', class_weight='balanced')\n",
    "    f = cross_val_score(s, train, target, cv=5, scoring='f1_micro')\n",
    "    return f.max()"
   ]
  },
  {
   "cell_type": "code",
   "execution_count": 101,
   "metadata": {},
   "outputs": [],
   "source": [
    "from bayes_opt import BayesianOptimization\n",
    "from sklearn.model_selection import cross_val_score\n",
    "new_opt = BayesianOptimization(evalfn, {'C': (0.1, 1000),  \n",
    "              'gamma': (0.0001, 1)  })"
   ]
  },
  {
   "cell_type": "code",
   "execution_count": null,
   "metadata": {},
   "outputs": [],
   "source": [
    "%%time\n",
    "new_opt.maximize(n_iter=15, init_points=3) "
   ]
  },
  {
   "cell_type": "code",
   "execution_count": null,
   "metadata": {},
   "outputs": [],
   "source": [
    "new_opt.max"
   ]
  },
  {
   "cell_type": "code",
   "execution_count": 102,
   "metadata": {},
   "outputs": [],
   "source": [
    "C = 604.5300203551828\n",
    "gamma = 0.9656489284085462\n",
    "\n",
    "clf = SVC(C=float(C), gamma=float(gamma), kernel='rbf')"
   ]
  },
  {
   "cell_type": "code",
   "execution_count": 103,
   "metadata": {},
   "outputs": [
    {
     "name": "stdout",
     "output_type": "stream",
     "text": [
      "Wall time: 5min 59s\n"
     ]
    },
    {
     "data": {
      "text/plain": [
       "SVC(C=604.5300203551828, gamma=0.9656489284085462)"
      ]
     },
     "execution_count": 103,
     "metadata": {},
     "output_type": "execute_result"
    }
   ],
   "source": [
    "%%time\n",
    "clf.fit(x_train, y_train)"
   ]
  },
  {
   "cell_type": "code",
   "execution_count": 104,
   "metadata": {},
   "outputs": [],
   "source": [
    "y_pred = clf.predict(x_test)"
   ]
  },
  {
   "cell_type": "code",
   "execution_count": 105,
   "metadata": {},
   "outputs": [
    {
     "data": {
      "text/plain": [
       "array(['irish', 'russian', 'russian', ..., 'french', 'chinese', 'mexican'],\n",
       "      dtype=object)"
      ]
     },
     "execution_count": 105,
     "metadata": {},
     "output_type": "execute_result"
    }
   ],
   "source": [
    "y_pred"
   ]
  },
  {
   "cell_type": "markdown",
   "metadata": {},
   "source": [
    "Results"
   ]
  },
  {
   "cell_type": "code",
   "execution_count": 106,
   "metadata": {},
   "outputs": [
    {
     "name": "stdout",
     "output_type": "stream",
     "text": [
      "Accuracy score for SVC is:  81.20442544631632 %\n"
     ]
    }
   ],
   "source": [
    "print(\"Accuracy score for SVC is: \", accuracy_score(y_test, y_pred) * 100, '%')"
   ]
  },
  {
   "cell_type": "code",
   "execution_count": 107,
   "metadata": {},
   "outputs": [
    {
     "name": "stdout",
     "output_type": "stream",
     "text": [
      "              precision    recall  f1-score   support\n",
      "\n",
      "   brazilian       0.81      0.68      0.74        93\n",
      "     british       0.70      0.51      0.59       161\n",
      "cajun_creole       0.79      0.71      0.75       309\n",
      "     chinese       0.80      0.86      0.83       535\n",
      "    filipino       0.75      0.62      0.68       151\n",
      "      french       0.65      0.71      0.68       529\n",
      "       greek       0.80      0.76      0.78       235\n",
      "      indian       0.88      0.94      0.91       600\n",
      "       irish       0.71      0.54      0.62       133\n",
      "     italian       0.82      0.91      0.86      1568\n",
      "    jamaican       0.94      0.71      0.81       105\n",
      "    japanese       0.82      0.72      0.77       285\n",
      "      korean       0.87      0.79      0.83       166\n",
      "     mexican       0.92      0.93      0.92      1287\n",
      "    moroccan       0.89      0.77      0.82       165\n",
      "     russian       0.75      0.47      0.58        97\n",
      " southern_us       0.74      0.80      0.77       864\n",
      "     spanish       0.72      0.54      0.61       198\n",
      "        thai       0.83      0.81      0.82       308\n",
      "  vietnamese       0.79      0.60      0.68       165\n",
      "\n",
      "    accuracy                           0.81      7954\n",
      "   macro avg       0.80      0.72      0.75      7954\n",
      "weighted avg       0.81      0.81      0.81      7954\n",
      "\n"
     ]
    }
   ],
   "source": [
    "print(classification_report(y_test,y_pred))"
   ]
  },
  {
   "cell_type": "code",
   "execution_count": 108,
   "metadata": {},
   "outputs": [
    {
     "name": "stdout",
     "output_type": "stream",
     "text": [
      "[[  63    0    4    0    0    1    0    1    0    4    0    0    0   12\n",
      "     0    0    6    2    0    0]\n",
      " [   0   82    0    0    1   27    1    2   12   10    0    0    0    1\n",
      "     0    0   24    0    0    1]\n",
      " [   0    2  218    2    1   14    0    0    0   21    0    0    0    4\n",
      "     1    0   42    4    0    0]\n",
      " [   0    0    3  461    1    2    0    4    0    8    0   22   11    4\n",
      "     0    0    5    0    9    5]\n",
      " [   4    0    0   16   94    4    1    3    0    3    1    4    0    3\n",
      "     0    0   12    2    3    1]\n",
      " [   0    3    7    0    2  374    2    1    2   87    0    0    0    3\n",
      "     2    3   35    6    0    2]\n",
      " [   0    2    0    0    0    7  178    4    0   38    0    0    0    2\n",
      "     4    0    0    0    0    0]\n",
      " [   0    0    0    1    0    3    3  563    1    4    0    1    0    6\n",
      "     7    1    6    1    3    0]\n",
      " [   0   10    0    1    1   14    1    0   72   10    0    0    0    1\n",
      "     0    4   19    0    0    0]\n",
      " [   0    3    2    2    4   59   20    2    0 1422    0    0    0    9\n",
      "     1    2   29   13    0    0]\n",
      " [   0    1    1    3    1    0    0    5    1    6   75    1    0    3\n",
      "     0    1    5    2    0    0]\n",
      " [   0    1    2   29    4    3    0   15    0    5    1  206    5    3\n",
      "     0    0    9    0    2    0]\n",
      " [   0    0    0   19    1    0    0    0    0    2    0    9  131    1\n",
      "     0    0    1    0    1    1]\n",
      " [   5    2    4    3    4    5    4    4    0   25    0    1    0 1197\n",
      "     0    1   22    9    1    0]\n",
      " [   1    0    1    0    0    3    7   12    0    4    0    0    0    5\n",
      "   127    1    3    1    0    0]\n",
      " [   1    3    0    0    0    7    1    3    5   13    1    1    0    4\n",
      "     0   46   12    0    0    0]\n",
      " [   3    6   32    3    6   25    1    8    7   35    2    3    0   33\n",
      "     1    2  695    2    0    0]\n",
      " [   0    1    2    0    1   29    2    1    0   37    0    0    0   13\n",
      "     0    0    5  106    1    0]\n",
      " [   1    0    0   16    5    0    1    9    1    3    0    1    0    1\n",
      "     0    0    3    0  250   17]\n",
      " [   0    1    0   17    0    1    0    2    0    3    0    3    3    2\n",
      "     0    0    1    0   33   99]]\n"
     ]
    }
   ],
   "source": [
    "print(confusion_matrix(y_test, y_pred))"
   ]
  },
  {
   "cell_type": "markdown",
   "metadata": {},
   "source": [
    "For kaggle, we can make a submission, however this submission is not necessary since the competition is already closed. Also it takes so much time to compute.  "
   ]
  },
  {
   "cell_type": "markdown",
   "metadata": {},
   "source": [
    "# Model Development: Naive Bayes "
   ]
  },
  {
   "cell_type": "code",
   "execution_count": 29,
   "metadata": {},
   "outputs": [],
   "source": [
    "from sklearn.naive_bayes import MultinomialNB\n",
    "from sklearn.pipeline import make_pipeline\n",
    "from sklearn.model_selection import StratifiedKFold\n",
    "from sklearn.model_selection import RepeatedKFold\n",
    "from scipy.stats import sem\n",
    "from numpy import mean\n",
    "from numpy import std\n",
    "from sklearn.model_selection import KFold\n",
    "\n",
    "x_train = train_tfidf\n",
    "x_test = test_tfidf"
   ]
  },
  {
   "cell_type": "code",
   "execution_count": 30,
   "metadata": {},
   "outputs": [],
   "source": [
    "def get_score(model, X_train, X_test, y_train, y_test):\n",
    "    model.fit(X_train, y_train)\n",
    "    return model.score(X_test, y_test)"
   ]
  },
  {
   "cell_type": "code",
   "execution_count": 74,
   "metadata": {},
   "outputs": [
    {
     "name": "stdout",
     "output_type": "stream",
     "text": [
      "[0.6752985543683218]\n",
      "[0.6752985543683218, 0.6827152734129478]\n",
      "[0.6752985543683218, 0.6827152734129478, 0.6651162790697674]\n",
      "[0.6752985543683218, 0.6827152734129478, 0.6651162790697674, 0.6745443117536141]\n",
      "[0.6752985543683218, 0.6827152734129478, 0.6651162790697674, 0.6745443117536141, 0.6775207442796077]\n"
     ]
    }
   ],
   "source": [
    "kf = KFold(n_splits=5)\n",
    "folds = StratifiedKFold(n_splits=5)\n",
    "\n",
    "scores_bayes = []\n",
    "y_pred = []\n",
    "\n",
    "for train_index, test_index in folds.split(df.ingredients,df.cuisine):\n",
    "    x_train, x_test, y_train, y_test = df.ingredients[train_index], df.ingredients[test_index], df.cuisine[train_index], df.cuisine[test_index]\n",
    "    train_tfidf, test_tfidf, tfidf = tfidf_vectorizer(x_train,x_test)\n",
    "    x_train = train_tfidf\n",
    "    x_test = test_tfidf\n",
    "    scores_bayes.append(get_score((MultinomialNB()), x_train, x_test, y_train, y_test))\n",
    "    print(scores_bayes)"
   ]
  },
  {
   "cell_type": "code",
   "execution_count": 75,
   "metadata": {},
   "outputs": [
    {
     "data": {
      "text/plain": [
       "[0.6752985543683218,\n",
       " 0.6827152734129478,\n",
       " 0.6651162790697674,\n",
       " 0.6745443117536141,\n",
       " 0.6775207442796077]"
      ]
     },
     "execution_count": 75,
     "metadata": {},
     "output_type": "execute_result"
    }
   ],
   "source": [
    "scores_bayes"
   ]
  },
  {
   "cell_type": "code",
   "execution_count": 76,
   "metadata": {},
   "outputs": [
    {
     "data": {
      "text/plain": [
       "0.6750390325768517"
      ]
     },
     "execution_count": 76,
     "metadata": {},
     "output_type": "execute_result"
    }
   ],
   "source": [
    "np.average(scores_bayes)"
   ]
  },
  {
   "cell_type": "code",
   "execution_count": 79,
   "metadata": {},
   "outputs": [],
   "source": [
    "#for computing the conf matrix\n",
    "classifier = MultinomialNB()\n",
    "classifier = classifier.fit(x_train, y_train)\n",
    "y_pred_bayes = classifier.predict(x_test)"
   ]
  },
  {
   "cell_type": "code",
   "execution_count": 80,
   "metadata": {},
   "outputs": [
    {
     "name": "stdout",
     "output_type": "stream",
     "text": [
      "Accuracy score for Naive Bayes is:  67.75207442796078 %\n"
     ]
    }
   ],
   "source": [
    "print(\"Accuracy score for Naive Bayes is: \", accuracy_score(y_test, y_pred_bayes) * 100, '%')"
   ]
  },
  {
   "cell_type": "code",
   "execution_count": 81,
   "metadata": {},
   "outputs": [
    {
     "name": "stdout",
     "output_type": "stream",
     "text": [
      "              precision    recall  f1-score   support\n",
      "\n",
      "   brazilian       1.00      0.17      0.29        93\n",
      "     british       0.83      0.06      0.12       161\n",
      "cajun_creole       0.77      0.50      0.61       309\n",
      "     chinese       0.61      0.91      0.73       535\n",
      "    filipino       0.88      0.10      0.18       151\n",
      "      french       0.55      0.43      0.48       529\n",
      "       greek       0.93      0.29      0.45       235\n",
      "      indian       0.77      0.92      0.84       600\n",
      "       irish       0.92      0.09      0.16       133\n",
      "     italian       0.65      0.91      0.76      1568\n",
      "    jamaican       1.00      0.11      0.21       105\n",
      "    japanese       0.91      0.57      0.70       285\n",
      "      korean       0.95      0.35      0.51       166\n",
      "     mexican       0.81      0.92      0.86      1287\n",
      "    moroccan       0.90      0.32      0.47       165\n",
      "     russian       0.80      0.04      0.08        97\n",
      " southern_us       0.51      0.76      0.61       864\n",
      "     spanish       0.84      0.13      0.23       198\n",
      "        thai       0.69      0.74      0.71       308\n",
      "  vietnamese       0.84      0.16      0.27       165\n",
      "\n",
      "    accuracy                           0.68      7954\n",
      "   macro avg       0.81      0.43      0.46      7954\n",
      "weighted avg       0.73      0.68      0.64      7954\n",
      "\n"
     ]
    }
   ],
   "source": [
    "print(classification_report(y_test,y_pred_bayes))"
   ]
  },
  {
   "cell_type": "code",
   "execution_count": 82,
   "metadata": {},
   "outputs": [
    {
     "name": "stdout",
     "output_type": "stream",
     "text": [
      "[[  16    0    6    0    0    2    0    2    0   14    0    0    0   19\n",
      "     0    0   26    1    7    0]\n",
      " [   0   10    0    1    0   34    0    3    0   26    0    0    0    7\n",
      "     0    0   79    0    1    0]\n",
      " [   0    0  154    0    0    9    0    2    0   52    0    0    0   29\n",
      "     0    0   63    0    0    0]\n",
      " [   0    0    3  485    0    1    0    6    0   10    0    2    1    3\n",
      "     0    0   19    0    4    1]\n",
      " [   0    0    1   59   15    1    0    6    0   15    0    3    0   11\n",
      "     0    0   32    0    8    0]\n",
      " [   0    1    4    1    0  229    0    1    0  193    0    0    0    8\n",
      "     3    0   86    2    0    1]\n",
      " [   0    0    0    1    0    5   69   14    0  125    0    0    0    9\n",
      "     1    0   11    0    0    0]\n",
      " [   0    0    0    1    0    3    2  554    0   11    0    0    0    9\n",
      "     1    0   16    0    3    0]\n",
      " [   0    1    1    1    0   18    0    2   12   25    0    0    0    5\n",
      "     0    0   68    0    0    0]\n",
      " [   0    0    1    1    0   52    0    2    0 1433    0    0    0   17\n",
      "     1    1   59    0    0    1]\n",
      " [   0    0    2    5    0    1    0    9    0   13   12    0    0   26\n",
      "     0    0   36    0    1    0]\n",
      " [   0    0    0   55    0    3    0   20    0   13    0  163    2    4\n",
      "     0    0   21    0    4    0]\n",
      " [   0    0    0   81    0    0    0    0    0    6    0    8   58    6\n",
      "     0    0    5    0    2    0]\n",
      " [   0    0    1    4    0    6    0    7    0   32    0    1    0 1185\n",
      "     0    0   49    1    1    0]\n",
      " [   0    0    0    1    0    6    1   57    0   29    0    0    0   10\n",
      "    53    0    6    1    1    0]\n",
      " [   0    0    0    0    0   24    1    3    1   20    0    0    0   10\n",
      "     0    4   34    0    0    0]\n",
      " [   0    0   26    6    0    8    1    9    0   87    0    1    0   67\n",
      "     0    0  656    0    3    0]\n",
      " [   0    0    1    1    0   17    0    1    0  105    0    0    0   28\n",
      "     0    0   18   26    1    0]\n",
      " [   0    0    0   43    0    0    0   18    0    2    0    0    0    6\n",
      "     0    0    9    0  228    2]\n",
      " [   0    0    0   52    2    0    0    2    0    5    0    1    0    5\n",
      "     0    0    3    0   68   27]]\n"
     ]
    }
   ],
   "source": [
    "print(confusion_matrix(y_test, y_pred_bayes))"
   ]
  },
  {
   "cell_type": "markdown",
   "metadata": {},
   "source": [
    "# Model Development: LogisticRegression"
   ]
  },
  {
   "cell_type": "code",
   "execution_count": 83,
   "metadata": {},
   "outputs": [],
   "source": [
    "from sklearn.linear_model import LogisticRegression"
   ]
  },
  {
   "cell_type": "code",
   "execution_count": 84,
   "metadata": {},
   "outputs": [],
   "source": [
    "%%time\n",
    "kf = KFold(n_splits=5)\n",
    "folds = StratifiedKFold(n_splits=5)\n",
    "\n",
    "scores_lr = []\n",
    "\n",
    "for train_index, test_index in folds.split(df.ingredients,df.cuisine):\n",
    "    x_train, x_test, y_train, y_test = df.ingredients[train_index], df.ingredients[test_index], df.cuisine[train_index], df.cuisine[test_index]\n",
    "    train_tfidf, test_tfidf, tfidf = tfidf_vectorizer(x_train,x_test)\n",
    "    x_train = train_tfidf\n",
    "    x_test = test_tfidf\n",
    "    scores_lr.append(get_score((LogisticRegression()), x_train, x_test, y_train, y_test))"
   ]
  },
  {
   "cell_type": "code",
   "execution_count": 85,
   "metadata": {},
   "outputs": [
    {
     "data": {
      "text/plain": [
       "0.7826973324143681"
      ]
     },
     "execution_count": 85,
     "metadata": {},
     "output_type": "execute_result"
    }
   ],
   "source": [
    "#cross validation score\n",
    "np.average(scores_lr)"
   ]
  },
  {
   "cell_type": "code",
   "execution_count": null,
   "metadata": {},
   "outputs": [],
   "source": [
    "np.average(cross_val_score(LogisticRegression(), x_train, y_train,cv=5))"
   ]
  },
  {
   "cell_type": "code",
   "execution_count": 86,
   "metadata": {},
   "outputs": [
    {
     "name": "stdout",
     "output_type": "stream",
     "text": [
      "Wall time: 21.2 s\n"
     ]
    },
    {
     "data": {
      "text/plain": [
       "LogisticRegression()"
      ]
     },
     "execution_count": 86,
     "metadata": {},
     "output_type": "execute_result"
    }
   ],
   "source": [
    "%%time\n",
    "x_train = train_tfidf\n",
    "x_test = test_tfidf\n",
    "\n",
    "lr=LogisticRegression()\n",
    "lr.fit(x_train,y_train)"
   ]
  },
  {
   "cell_type": "code",
   "execution_count": 87,
   "metadata": {},
   "outputs": [
    {
     "data": {
      "text/plain": [
       "0.7863967814935882"
      ]
     },
     "execution_count": 87,
     "metadata": {},
     "output_type": "execute_result"
    }
   ],
   "source": [
    "lr.score(x_test,y_test)"
   ]
  },
  {
   "cell_type": "code",
   "execution_count": 88,
   "metadata": {},
   "outputs": [],
   "source": [
    "y_pred_lr = lr.predict(x_test)"
   ]
  },
  {
   "cell_type": "code",
   "execution_count": 89,
   "metadata": {},
   "outputs": [
    {
     "name": "stdout",
     "output_type": "stream",
     "text": [
      "Accuracy score for Logistic Regression is:  78.63967814935882 %\n"
     ]
    }
   ],
   "source": [
    "print(\"Accuracy score for Logistic Regression is: \", accuracy_score(y_test, y_pred_lr) * 100, '%')"
   ]
  },
  {
   "cell_type": "code",
   "execution_count": 90,
   "metadata": {},
   "outputs": [
    {
     "name": "stdout",
     "output_type": "stream",
     "text": [
      "              precision    recall  f1-score   support\n",
      "\n",
      "   brazilian       0.91      0.54      0.68        93\n",
      "     british       0.65      0.37      0.47       161\n",
      "cajun_creole       0.75      0.66      0.71       309\n",
      "     chinese       0.79      0.86      0.83       535\n",
      "    filipino       0.77      0.55      0.64       151\n",
      "      french       0.60      0.63      0.62       529\n",
      "       greek       0.83      0.69      0.75       235\n",
      "      indian       0.87      0.93      0.90       600\n",
      "       irish       0.74      0.47      0.58       133\n",
      "     italian       0.79      0.92      0.85      1568\n",
      "    jamaican       0.90      0.63      0.74       105\n",
      "    japanese       0.79      0.66      0.72       285\n",
      "      korean       0.82      0.71      0.76       166\n",
      "     mexican       0.91      0.93      0.92      1287\n",
      "    moroccan       0.86      0.75      0.80       165\n",
      "     russian       0.72      0.35      0.47        97\n",
      " southern_us       0.68      0.80      0.73       864\n",
      "     spanish       0.67      0.45      0.54       198\n",
      "        thai       0.80      0.78      0.79       308\n",
      "  vietnamese       0.75      0.57      0.65       165\n",
      "\n",
      "    accuracy                           0.79      7954\n",
      "   macro avg       0.78      0.66      0.71      7954\n",
      "weighted avg       0.79      0.79      0.78      7954\n",
      "\n"
     ]
    }
   ],
   "source": [
    "print(classification_report(y_test,y_pred_lr))"
   ]
  },
  {
   "cell_type": "code",
   "execution_count": 91,
   "metadata": {},
   "outputs": [
    {
     "name": "stdout",
     "output_type": "stream",
     "text": [
      "[[  50    1    3    0    0    1    0    1    0    9    0    0    0   14\n",
      "     0    0   11    3    0    0]\n",
      " [   0   60    0    0    2   27    1    3    8   18    0    0    0    1\n",
      "     0    2   36    1    1    1]\n",
      " [   0    2  205    1    0   12    0    0    0   27    0    0    0    6\n",
      "     1    0   52    3    0    0]\n",
      " [   0    0    3  462    2    3    0    6    0    5    1   20   14    3\n",
      "     0    0    5    0    7    4]\n",
      " [   3    0    2   17   83    4    1    4    0    4    0    2    0    6\n",
      "     0    0   15    3    4    3]\n",
      " [   0    7    6    1    0  335    1    1    4  110    1    1    0    3\n",
      "     2    0   49    6    1    1]\n",
      " [   0    3    0    0    0   10  161    4    0   44    0    1    0    1\n",
      "     5    0    4    2    0    0]\n",
      " [   0    0    0    2    0    4    2  557    0    3    0    2    0    8\n",
      "     9    0   10    0    3    0]\n",
      " [   0    8    1    1    0   23    1    0   63    7    0    0    0    0\n",
      "     0    2   26    1    0    0]\n",
      " [   0    0    2    0    1   54   12    2    1 1440    0    0    0   13\n",
      "     1    1   36    5    0    0]\n",
      " [   0    2    2    0    1    1    0    4    0    7   66    0    0    5\n",
      "     0    2   12    2    1    0]\n",
      " [   0    1    1   35    3    6    0   19    0    4    1  189    7    3\n",
      "     0    0   13    1    2    0]\n",
      " [   0    0    0   24    3    1    0    0    0    0    0   11  118    2\n",
      "     0    0    4    0    2    1]\n",
      " [   0    0    6    4    4    6    2    4    0   26    0    1    0 1195\n",
      "     0    1   27   10    1    0]\n",
      " [   0    0    2    1    0    0    8   11    0   10    0    0    0    4\n",
      "   124    1    3    1    0    0]\n",
      " [   1    4    0    0    0   15    1    3    5   13    1    1    0    5\n",
      "     0   34   13    1    0    0]\n",
      " [   0    4   35    4    3   29    0    6    2   44    3    4    0   30\n",
      "     2    4  689    4    1    0]\n",
      " [   0    0    4    0    2   28    3    1    2   43    0    0    0   16\n",
      "     0    0    9   89    1    0]\n",
      " [   1    1    0   16    3    0    0   12    0    2    0    3    1    3\n",
      "     1    0    3    0  241   21]\n",
      " [   0    0    0   17    1    1    0    2    0    3    0    3    4    1\n",
      "     0    0    2    0   37   94]]\n"
     ]
    }
   ],
   "source": [
    "print(confusion_matrix(y_test, y_pred_lr))"
   ]
  },
  {
   "cell_type": "markdown",
   "metadata": {},
   "source": [
    "# Model Development: Multi Layer Perceptron (MLP)"
   ]
  },
  {
   "cell_type": "code",
   "execution_count": 109,
   "metadata": {},
   "outputs": [],
   "source": [
    "from sklearn.neural_network import MLPClassifier\n",
    "\n",
    "x_train = train_tfidf\n",
    "x_test = test_tfidf"
   ]
  },
  {
   "cell_type": "code",
   "execution_count": null,
   "metadata": {},
   "outputs": [],
   "source": [
    "%%time\n",
    "kf = KFold(n_splits=5)\n",
    "folds = StratifiedKFold(n_splits=5)\n",
    "\n",
    "scores_mlp = []\n",
    "clf = MLPClassifier(solver='adam', alpha=0.001, hidden_layer_sizes=(100,100,100),random_state=1, activation='logistic' ,early_stopping = False)\n",
    "for train_index, test_index in folds.split(df.ingredients,df.cuisine):\n",
    "    x_train, x_test, y_train, y_test = df.ingredients[train_index], df.ingredients[test_index], df.cuisine[train_index], df.cuisine[test_index]\n",
    "    train_tfidf, test_tfidf, tfidf = tfidf_vectorizer(x_train,x_test)\n",
    "    x_train = train_tfidf\n",
    "    x_test = test_tfidf\n",
    "    scores_mlp.append(get_score(clf, x_train, x_test, y_train, y_test))"
   ]
  },
  {
   "cell_type": "code",
   "execution_count": 110,
   "metadata": {},
   "outputs": [],
   "source": [
    "clf = MLPClassifier(solver='adam', alpha=0.001, hidden_layer_sizes=(100,100,100),random_state=1, activation='logistic' ,early_stopping = False)"
   ]
  },
  {
   "cell_type": "code",
   "execution_count": 111,
   "metadata": {},
   "outputs": [
    {
     "name": "stdout",
     "output_type": "stream",
     "text": [
      "Wall time: 18min 32s\n"
     ]
    },
    {
     "data": {
      "text/plain": [
       "MLPClassifier(activation='logistic', alpha=0.001,\n",
       "              hidden_layer_sizes=(100, 100, 100), random_state=1)"
      ]
     },
     "execution_count": 111,
     "metadata": {},
     "output_type": "execute_result"
    }
   ],
   "source": [
    "%%time\n",
    "clf.fit(x_train,y_train)"
   ]
  },
  {
   "cell_type": "code",
   "execution_count": 112,
   "metadata": {},
   "outputs": [
    {
     "name": "stdout",
     "output_type": "stream",
     "text": [
      "Wall time: 95.8 ms\n"
     ]
    }
   ],
   "source": [
    "%%time\n",
    "y_pred_mlp = clf.predict(x_test)"
   ]
  },
  {
   "cell_type": "code",
   "execution_count": 113,
   "metadata": {},
   "outputs": [
    {
     "name": "stdout",
     "output_type": "stream",
     "text": [
      "Accuracy score for MLP is:  75.97435252703042 %\n"
     ]
    }
   ],
   "source": [
    "print(\"Accuracy score for MLP is: \", accuracy_score(y_test, y_pred_mlp) * 100, '%')"
   ]
  },
  {
   "cell_type": "code",
   "execution_count": 114,
   "metadata": {},
   "outputs": [
    {
     "name": "stdout",
     "output_type": "stream",
     "text": [
      "              precision    recall  f1-score   support\n",
      "\n",
      "   brazilian       0.69      0.60      0.64        93\n",
      "     british       0.50      0.42      0.46       161\n",
      "cajun_creole       0.73      0.67      0.70       309\n",
      "     chinese       0.73      0.84      0.79       535\n",
      "    filipino       0.55      0.51      0.53       151\n",
      "      french       0.59      0.62      0.60       529\n",
      "       greek       0.79      0.70      0.74       235\n",
      "      indian       0.86      0.90      0.88       600\n",
      "       irish       0.45      0.46      0.45       133\n",
      "     italian       0.82      0.87      0.84      1568\n",
      "    jamaican       0.67      0.69      0.68       105\n",
      "    japanese       0.78      0.67      0.72       285\n",
      "      korean       0.75      0.69      0.72       166\n",
      "     mexican       0.90      0.91      0.91      1287\n",
      "    moroccan       0.77      0.72      0.75       165\n",
      "     russian       0.42      0.40      0.41        97\n",
      " southern_us       0.74      0.73      0.74       864\n",
      "     spanish       0.48      0.44      0.46       198\n",
      "        thai       0.75      0.74      0.75       308\n",
      "  vietnamese       0.59      0.44      0.50       165\n",
      "\n",
      "    accuracy                           0.76      7954\n",
      "   macro avg       0.68      0.65      0.66      7954\n",
      "weighted avg       0.76      0.76      0.76      7954\n",
      "\n"
     ]
    }
   ],
   "source": [
    "print(classification_report(y_test,y_pred_mlp))"
   ]
  },
  {
   "cell_type": "code",
   "execution_count": 115,
   "metadata": {},
   "outputs": [
    {
     "name": "stdout",
     "output_type": "stream",
     "text": [
      "[[  56    0    1    0    3    4    0    1    0    4    2    0    0    9\n",
      "     1    0    7    4    0    1]\n",
      " [   0   68    0    0    5   20    0    1   27   13    3    3    0    1\n",
      "     0    7   13    0    0    0]\n",
      " [   2    1  206    2    1    8    1    0    2   22    2    1    1    4\n",
      "     1    1   47    6    0    1]\n",
      " [   0    0    4  451    6    3    0    4    0    5    1   16   13    3\n",
      "     0    0    8    1   10   10]\n",
      " [   4    0    1   21   77    3    0    2    2    4    8    1    6    5\n",
      "     0    2    5    2    5    3]\n",
      " [   3   15    6    4    1  327    3    1    8   92    2    3    0    2\n",
      "     2   11   38    8    1    2]\n",
      " [   0    1    0    0    0    5  165    6    3   34    0    0    0    3\n",
      "     5    1    1   11    0    0]\n",
      " [   0    5    1    0    3    2    5  538    0    2    2    5    0    4\n",
      "    13    2    9    2    7    0]\n",
      " [   0   16    0    1    1   24    1    1   61    3    1    0    0    1\n",
      "     0    7   15    1    0    0]\n",
      " [   1    8    6    5    2   64   17    3    5 1360    0    3    0   25\n",
      "     2    5   34   27    1    0]\n",
      " [   0    2    1    1    3    2    0    2    1    4   72    0    0    2\n",
      "     0    3    7    3    2    0]\n",
      " [   1    3    0   39    4    3    0   19    0    4    1  191    9    1\n",
      "     0    0    3    1    4    2]\n",
      " [   0    1    0   30    2    0    0    0    2    1    0   10  114    2\n",
      "     0    1    1    0    2    0]\n",
      " [   7    0    6    8    5    5    1    7    0   25    2    2    1 1176\n",
      "     2    0   19   16    3    2]\n",
      " [   0    0    1    0    1    3   10   15    0    3    0    0    0    2\n",
      "   119    3    2    6    0    0]\n",
      " [   1    6    1    0    1   12    0    3    8    9    0    2    1    5\n",
      "     2   39    5    2    0    0]\n",
      " [   0   10   44   12    4   38    2    8   18   31   10    2    1   32\n",
      "     3    8  635    6    0    0]\n",
      " [   1    0    5    0    3   29    3    1    0   34    0    1    0   20\n",
      "     4    2    7   87    1    0]\n",
      " [   3    0    0   18    8    0    0   11    0    1    1    2    1    2\n",
      "     0    1    1    0  229   30]\n",
      " [   2    0    0   22   11    2    0    1    0    3    0    4    5    2\n",
      "     0    0    1    0   40   72]]\n"
     ]
    }
   ],
   "source": [
    "print(confusion_matrix(y_test,y_pred_mlp))"
   ]
  }
 ],
 "metadata": {
  "kernelspec": {
   "display_name": "Python 3",
   "language": "python",
   "name": "python3"
  },
  "language_info": {
   "codemirror_mode": {
    "name": "ipython",
    "version": 3
   },
   "file_extension": ".py",
   "mimetype": "text/x-python",
   "name": "python",
   "nbconvert_exporter": "python",
   "pygments_lexer": "ipython3",
   "version": "3.8.0"
  }
 },
 "nbformat": 4,
 "nbformat_minor": 4
}
