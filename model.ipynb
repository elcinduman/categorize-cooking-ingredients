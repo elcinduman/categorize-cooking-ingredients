{
 "cells": [
  {
   "cell_type": "code",
   "execution_count": 65,
   "metadata": {},
   "outputs": [],
   "source": [
    "import pandas as pd\n",
    "import numpy as np \n",
    "import seaborn as sns\n",
    "import matplotlib.pyplot as plt\n",
    "import math\n",
    "import warnings \n",
    "warnings.filterwarnings(\"ignore\")\n",
    "import os\n",
    "import nltk\n",
    "import re\n",
    "import json\n",
    "from tqdm import tqdm\n",
    "import zipfile\n",
    "from nltk.stem import WordNetLemmatizer\n",
    "from sklearn.metrics import confusion_matrix, accuracy_score, f1_score, classification_report\n",
    "from sklearn.model_selection import GridSearchCV, train_test_split\n",
    "from sklearn.model_selection import train_test_split"
   ]
  },
  {
   "cell_type": "code",
   "execution_count": 2,
   "metadata": {},
   "outputs": [],
   "source": [
    "train_path = 'train.json'\n",
    "test_path = 'test.json'"
   ]
  },
  {
   "cell_type": "code",
   "execution_count": 3,
   "metadata": {},
   "outputs": [],
   "source": [
    "with open(train_path, encoding='utf-8') as f:\n",
    "    train = json.load(f)\n",
    "\n",
    "with open(test_path, encoding='utf-8') as f:\n",
    "    test = json.load(f)\n",
    "\n",
    "df = pd.DataFrame(train)\n",
    "df_test = pd.DataFrame(test)\n",
    "test_ids = df_test['id']"
   ]
  },
  {
   "cell_type": "markdown",
   "metadata": {},
   "source": [
    "# Exploratory Data Analysis (EDA)"
   ]
  },
  {
   "cell_type": "markdown",
   "metadata": {},
   "source": [
    "    Read Dataset\n",
    "    Perform EDA"
   ]
  },
  {
   "cell_type": "code",
   "execution_count": 4,
   "metadata": {},
   "outputs": [
    {
     "data": {
      "text/html": [
       "<div>\n",
       "<style scoped>\n",
       "    .dataframe tbody tr th:only-of-type {\n",
       "        vertical-align: middle;\n",
       "    }\n",
       "\n",
       "    .dataframe tbody tr th {\n",
       "        vertical-align: top;\n",
       "    }\n",
       "\n",
       "    .dataframe thead th {\n",
       "        text-align: right;\n",
       "    }\n",
       "</style>\n",
       "<table border=\"1\" class=\"dataframe\">\n",
       "  <thead>\n",
       "    <tr style=\"text-align: right;\">\n",
       "      <th></th>\n",
       "      <th>id</th>\n",
       "      <th>cuisine</th>\n",
       "      <th>ingredients</th>\n",
       "    </tr>\n",
       "  </thead>\n",
       "  <tbody>\n",
       "    <tr>\n",
       "      <th>0</th>\n",
       "      <td>10259</td>\n",
       "      <td>greek</td>\n",
       "      <td>[romaine lettuce, black olives, grape tomatoes...</td>\n",
       "    </tr>\n",
       "    <tr>\n",
       "      <th>1</th>\n",
       "      <td>25693</td>\n",
       "      <td>southern_us</td>\n",
       "      <td>[plain flour, ground pepper, salt, tomatoes, g...</td>\n",
       "    </tr>\n",
       "    <tr>\n",
       "      <th>2</th>\n",
       "      <td>20130</td>\n",
       "      <td>filipino</td>\n",
       "      <td>[eggs, pepper, salt, mayonaise, cooking oil, g...</td>\n",
       "    </tr>\n",
       "    <tr>\n",
       "      <th>3</th>\n",
       "      <td>22213</td>\n",
       "      <td>indian</td>\n",
       "      <td>[water, vegetable oil, wheat, salt]</td>\n",
       "    </tr>\n",
       "    <tr>\n",
       "      <th>4</th>\n",
       "      <td>13162</td>\n",
       "      <td>indian</td>\n",
       "      <td>[black pepper, shallots, cornflour, cayenne pe...</td>\n",
       "    </tr>\n",
       "  </tbody>\n",
       "</table>\n",
       "</div>"
      ],
      "text/plain": [
       "      id      cuisine                                        ingredients\n",
       "0  10259        greek  [romaine lettuce, black olives, grape tomatoes...\n",
       "1  25693  southern_us  [plain flour, ground pepper, salt, tomatoes, g...\n",
       "2  20130     filipino  [eggs, pepper, salt, mayonaise, cooking oil, g...\n",
       "3  22213       indian                [water, vegetable oil, wheat, salt]\n",
       "4  13162       indian  [black pepper, shallots, cornflour, cayenne pe..."
      ]
     },
     "execution_count": 4,
     "metadata": {},
     "output_type": "execute_result"
    }
   ],
   "source": [
    "df.head()"
   ]
  },
  {
   "cell_type": "code",
   "execution_count": 5,
   "metadata": {},
   "outputs": [
    {
     "data": {
      "text/html": [
       "<div>\n",
       "<style scoped>\n",
       "    .dataframe tbody tr th:only-of-type {\n",
       "        vertical-align: middle;\n",
       "    }\n",
       "\n",
       "    .dataframe tbody tr th {\n",
       "        vertical-align: top;\n",
       "    }\n",
       "\n",
       "    .dataframe thead th {\n",
       "        text-align: right;\n",
       "    }\n",
       "</style>\n",
       "<table border=\"1\" class=\"dataframe\">\n",
       "  <thead>\n",
       "    <tr style=\"text-align: right;\">\n",
       "      <th></th>\n",
       "      <th>id</th>\n",
       "      <th>cuisine</th>\n",
       "      <th>ingredients</th>\n",
       "    </tr>\n",
       "  </thead>\n",
       "  <tbody>\n",
       "    <tr>\n",
       "      <th>39769</th>\n",
       "      <td>29109</td>\n",
       "      <td>irish</td>\n",
       "      <td>[light brown sugar, granulated sugar, butter, ...</td>\n",
       "    </tr>\n",
       "    <tr>\n",
       "      <th>39770</th>\n",
       "      <td>11462</td>\n",
       "      <td>italian</td>\n",
       "      <td>[KRAFT Zesty Italian Dressing, purple onion, b...</td>\n",
       "    </tr>\n",
       "    <tr>\n",
       "      <th>39771</th>\n",
       "      <td>2238</td>\n",
       "      <td>irish</td>\n",
       "      <td>[eggs, citrus fruit, raisins, sourdough starte...</td>\n",
       "    </tr>\n",
       "    <tr>\n",
       "      <th>39772</th>\n",
       "      <td>41882</td>\n",
       "      <td>chinese</td>\n",
       "      <td>[boneless chicken skinless thigh, minced garli...</td>\n",
       "    </tr>\n",
       "    <tr>\n",
       "      <th>39773</th>\n",
       "      <td>2362</td>\n",
       "      <td>mexican</td>\n",
       "      <td>[green chile, jalapeno chilies, onions, ground...</td>\n",
       "    </tr>\n",
       "  </tbody>\n",
       "</table>\n",
       "</div>"
      ],
      "text/plain": [
       "          id  cuisine                                        ingredients\n",
       "39769  29109    irish  [light brown sugar, granulated sugar, butter, ...\n",
       "39770  11462  italian  [KRAFT Zesty Italian Dressing, purple onion, b...\n",
       "39771   2238    irish  [eggs, citrus fruit, raisins, sourdough starte...\n",
       "39772  41882  chinese  [boneless chicken skinless thigh, minced garli...\n",
       "39773   2362  mexican  [green chile, jalapeno chilies, onions, ground..."
      ]
     },
     "execution_count": 5,
     "metadata": {},
     "output_type": "execute_result"
    }
   ],
   "source": [
    "df.tail()"
   ]
  },
  {
   "cell_type": "code",
   "execution_count": 6,
   "metadata": {},
   "outputs": [
    {
     "data": {
      "text/plain": [
       "(39774, 3)"
      ]
     },
     "execution_count": 6,
     "metadata": {},
     "output_type": "execute_result"
    }
   ],
   "source": [
    "df.shape"
   ]
  },
  {
   "cell_type": "code",
   "execution_count": 7,
   "metadata": {},
   "outputs": [
    {
     "data": {
      "text/plain": [
       "Index(['id', 'cuisine', 'ingredients'], dtype='object')"
      ]
     },
     "execution_count": 7,
     "metadata": {},
     "output_type": "execute_result"
    }
   ],
   "source": [
    "df.columns"
   ]
  },
  {
   "cell_type": "code",
   "execution_count": 8,
   "metadata": {},
   "outputs": [
    {
     "data": {
      "text/plain": [
       "array(['greek', 'southern_us', 'filipino', 'indian', 'jamaican',\n",
       "       'spanish', 'italian', 'mexican', 'chinese', 'british', 'thai',\n",
       "       'vietnamese', 'cajun_creole', 'brazilian', 'french', 'japanese',\n",
       "       'irish', 'korean', 'moroccan', 'russian'], dtype=object)"
      ]
     },
     "execution_count": 8,
     "metadata": {},
     "output_type": "execute_result"
    }
   ],
   "source": [
    "df['cuisine'].unique()"
   ]
  },
  {
   "cell_type": "code",
   "execution_count": 9,
   "metadata": {},
   "outputs": [
    {
     "data": {
      "text/plain": [
       "italian         7838\n",
       "mexican         6438\n",
       "southern_us     4320\n",
       "indian          3003\n",
       "chinese         2673\n",
       "french          2646\n",
       "cajun_creole    1546\n",
       "thai            1539\n",
       "japanese        1423\n",
       "greek           1175\n",
       "spanish          989\n",
       "korean           830\n",
       "vietnamese       825\n",
       "moroccan         821\n",
       "british          804\n",
       "filipino         755\n",
       "irish            667\n",
       "jamaican         526\n",
       "russian          489\n",
       "brazilian        467\n",
       "Name: cuisine, dtype: int64"
      ]
     },
     "execution_count": 9,
     "metadata": {},
     "output_type": "execute_result"
    }
   ],
   "source": [
    "#how many examples we have of each cuisine\n",
    "df[\"cuisine\"].value_counts()"
   ]
  },
  {
   "cell_type": "markdown",
   "metadata": {},
   "source": [
    "Now we are checking for null values in train dataset. We can see we have zero null values."
   ]
  },
  {
   "cell_type": "code",
   "execution_count": 10,
   "metadata": {},
   "outputs": [
    {
     "data": {
      "text/plain": [
       "id             0\n",
       "cuisine        0\n",
       "ingredients    0\n",
       "dtype: int64"
      ]
     },
     "execution_count": 10,
     "metadata": {},
     "output_type": "execute_result"
    }
   ],
   "source": [
    "df.isnull().sum()"
   ]
  },
  {
   "cell_type": "markdown",
   "metadata": {},
   "source": [
    "We are now checking for null values in test dataset. We can see we have zero null values."
   ]
  },
  {
   "cell_type": "code",
   "execution_count": 11,
   "metadata": {},
   "outputs": [
    {
     "data": {
      "text/plain": [
       "id             0\n",
       "ingredients    0\n",
       "dtype: int64"
      ]
     },
     "execution_count": 11,
     "metadata": {},
     "output_type": "execute_result"
    }
   ],
   "source": [
    "df_test.isnull().sum()"
   ]
  },
  {
   "cell_type": "code",
   "execution_count": 12,
   "metadata": {},
   "outputs": [
    {
     "data": {
      "text/plain": [
       "<matplotlib.axes._subplots.AxesSubplot at 0x22c8aaa4c40>"
      ]
     },
     "execution_count": 12,
     "metadata": {},
     "output_type": "execute_result"
    },
    {
     "data": {
      "image/png": "[encoded data removed]",
      "text/plain": [
       "<Figure size 1584x720 with 1 Axes>"
      ]
     },
     "metadata": {
      "needs_background": "light"
     },
     "output_type": "display_data"
    }
   ],
   "source": [
    "fig, ax = plt.subplots(figsize=(22,10))\n",
    "df['cuisine'].value_counts().sort_values(ascending=False).head(30).plot.bar(ax = ax)"
   ]
  },
  {
   "cell_type": "code",
   "execution_count": 13,
   "metadata": {},
   "outputs": [],
   "source": [
    "#Takes a lot of time to process, that's why those lines are comments. If you want to run you delete the '#'.\n",
    "#fig, ax = plt.subplots(figsize=(22,10))\n",
    "#df['ingredients'].value_counts().sort_values(ascending=False).head(30).plot.bar(ax = ax)"
   ]
  },
  {
   "cell_type": "code",
   "execution_count": 14,
   "metadata": {},
   "outputs": [
    {
     "data": {
      "text/plain": [
       "<matplotlib.axes._subplots.AxesSubplot at 0x22c8ac2e4c0>"
      ]
     },
     "execution_count": 14,
     "metadata": {},
     "output_type": "execute_result"
    },
    {
     "data": {
      "image/png": "[encoded data removed]",
      "text/plain": [
       "<Figure size 1584x504 with 1 Axes>"
      ]
     },
     "metadata": {
      "needs_background": "light"
     },
     "output_type": "display_data"
    }
   ],
   "source": [
    "fig, ax = plt.subplots(figsize=(22,7))\n",
    "ingredients = []\n",
    "for x in df['ingredients']:\n",
    "    for y in x:\n",
    "        ingredients.append(y)\n",
    "        \n",
    "ingredients = pd.Series(ingredients)\n",
    "ingredients.value_counts().sort_values(ascending=False).head(50).plot.bar(ax = ax)"
   ]
  },
  {
   "cell_type": "markdown",
   "metadata": {},
   "source": [
    "# Preprocessing "
   ]
  },
  {
   "cell_type": "markdown",
   "metadata": {},
   "source": [
    "We are going to apply string preprocessing "
   ]
  },
  {
   "cell_type": "code",
   "execution_count": 15,
   "metadata": {},
   "outputs": [],
   "source": [
    "def lemmatization(string):\n",
    "    string = [\" \".join([WordNetLemmatizer().lemmatize(q) for q in p.split()]) for p in string]\n",
    "    return string"
   ]
  },
  {
   "cell_type": "code",
   "execution_count": 16,
   "metadata": {},
   "outputs": [],
   "source": [
    "def clean_data(string):\n",
    "    x = string\n",
    "    # Remove punctuation\n",
    "    x = list(map(lambda x: re.sub('[,.₺…$%€!?;:\\\"\\']', ' ', x), x))\n",
    "    \n",
    "    #Remove unnecessary numbers\n",
    "    x = list(map(lambda x: re.sub(\"[^a-zA-Z]\", \" \", x), x))\n",
    "    \n",
    "    # Replace \\n with ' '\n",
    "    x = list(map(lambda x: re.sub(r'\\n', ' ', x), x))\n",
    "\n",
    "    # Remove extra space\n",
    "    x = list(map(lambda x: re.sub(r'  ', ' ', x), x))\n",
    "    \n",
    "    # Remove adjectives that are not serving to our purpose\n",
    "    x = list(map(lambda x: re.sub(r'\\(.*oz.\\)|crumbles|sliced|minced|crushed|chopped|ground','', x), x))\n",
    "    \n",
    "    # Convert the titles to lowercase\n",
    "    x = list(map(lambda x: x.lower(), x))\n",
    "    \n",
    "    x = \" \".join(x) \n",
    "    \n",
    "    return x "
   ]
  },
  {
   "cell_type": "code",
   "execution_count": 17,
   "metadata": {},
   "outputs": [],
   "source": [
    "def applying(df):\n",
    "    df = df.drop('id',axis=1)\n",
    "    df['ingredients'] = df['ingredients'].apply(lemmatization)\n",
    "    df['ingredients'] = df['ingredients'].apply(clean_data)\n",
    "    return df"
   ]
  },
  {
   "cell_type": "code",
   "execution_count": 18,
   "metadata": {},
   "outputs": [
    {
     "data": {
      "text/html": [
       "<div>\n",
       "<style scoped>\n",
       "    .dataframe tbody tr th:only-of-type {\n",
       "        vertical-align: middle;\n",
       "    }\n",
       "\n",
       "    .dataframe tbody tr th {\n",
       "        vertical-align: top;\n",
       "    }\n",
       "\n",
       "    .dataframe thead th {\n",
       "        text-align: right;\n",
       "    }\n",
       "</style>\n",
       "<table border=\"1\" class=\"dataframe\">\n",
       "  <thead>\n",
       "    <tr style=\"text-align: right;\">\n",
       "      <th></th>\n",
       "      <th>cuisine</th>\n",
       "      <th>ingredients</th>\n",
       "    </tr>\n",
       "  </thead>\n",
       "  <tbody>\n",
       "    <tr>\n",
       "      <th>0</th>\n",
       "      <td>greek</td>\n",
       "      <td>romaine lettuce black olive grape tomato garli...</td>\n",
       "    </tr>\n",
       "    <tr>\n",
       "      <th>1</th>\n",
       "      <td>southern_us</td>\n",
       "      <td>plain flour  pepper salt tomato  black pepper ...</td>\n",
       "    </tr>\n",
       "    <tr>\n",
       "      <th>2</th>\n",
       "      <td>filipino</td>\n",
       "      <td>egg pepper salt mayonaise cooking oil green ch...</td>\n",
       "    </tr>\n",
       "    <tr>\n",
       "      <th>3</th>\n",
       "      <td>indian</td>\n",
       "      <td>water vegetable oil wheat salt</td>\n",
       "    </tr>\n",
       "    <tr>\n",
       "      <th>4</th>\n",
       "      <td>indian</td>\n",
       "      <td>black pepper shallot cornflour cayenne pepper ...</td>\n",
       "    </tr>\n",
       "  </tbody>\n",
       "</table>\n",
       "</div>"
      ],
      "text/plain": [
       "       cuisine                                        ingredients\n",
       "0        greek  romaine lettuce black olive grape tomato garli...\n",
       "1  southern_us  plain flour  pepper salt tomato  black pepper ...\n",
       "2     filipino  egg pepper salt mayonaise cooking oil green ch...\n",
       "3       indian                     water vegetable oil wheat salt\n",
       "4       indian  black pepper shallot cornflour cayenne pepper ..."
      ]
     },
     "execution_count": 18,
     "metadata": {},
     "output_type": "execute_result"
    }
   ],
   "source": [
    "#if nltk is not available in your enviroment, pls run the code below:\n",
    "#nltk.download('wordnet')\n",
    "df = applying(df)\n",
    "df.head()"
   ]
  },
  {
   "cell_type": "code",
   "execution_count": 19,
   "metadata": {},
   "outputs": [
    {
     "data": {
      "text/html": [
       "<div>\n",
       "<style scoped>\n",
       "    .dataframe tbody tr th:only-of-type {\n",
       "        vertical-align: middle;\n",
       "    }\n",
       "\n",
       "    .dataframe tbody tr th {\n",
       "        vertical-align: top;\n",
       "    }\n",
       "\n",
       "    .dataframe thead th {\n",
       "        text-align: right;\n",
       "    }\n",
       "</style>\n",
       "<table border=\"1\" class=\"dataframe\">\n",
       "  <thead>\n",
       "    <tr style=\"text-align: right;\">\n",
       "      <th></th>\n",
       "      <th>ingredients</th>\n",
       "    </tr>\n",
       "  </thead>\n",
       "  <tbody>\n",
       "    <tr>\n",
       "      <th>0</th>\n",
       "      <td>baking powder egg all purpose flour raisin mil...</td>\n",
       "    </tr>\n",
       "    <tr>\n",
       "      <th>1</th>\n",
       "      <td>sugar egg yolk corn starch cream of tartar ban...</td>\n",
       "    </tr>\n",
       "    <tr>\n",
       "      <th>2</th>\n",
       "      <td>sausage link fennel bulb frond olive oil cuban...</td>\n",
       "    </tr>\n",
       "    <tr>\n",
       "      <th>3</th>\n",
       "      <td>meat cut file powder smoked sausage okra shrim...</td>\n",
       "    </tr>\n",
       "    <tr>\n",
       "      <th>4</th>\n",
       "      <td>black pepper salt sausage casing leek parmigi...</td>\n",
       "    </tr>\n",
       "  </tbody>\n",
       "</table>\n",
       "</div>"
      ],
      "text/plain": [
       "                                         ingredients\n",
       "0  baking powder egg all purpose flour raisin mil...\n",
       "1  sugar egg yolk corn starch cream of tartar ban...\n",
       "2  sausage link fennel bulb frond olive oil cuban...\n",
       "3  meat cut file powder smoked sausage okra shrim...\n",
       "4   black pepper salt sausage casing leek parmigi..."
      ]
     },
     "execution_count": 19,
     "metadata": {},
     "output_type": "execute_result"
    }
   ],
   "source": [
    "#Applying the same process to our test data. \n",
    "df_test = applying(df_test)\n",
    "df_test.head()\n",
    "#By doing so, our preprocessing is done. "
   ]
  },
  {
   "cell_type": "code",
   "execution_count": 20,
   "metadata": {},
   "outputs": [],
   "source": [
    "train = df['ingredients']\n",
    "test = df_test['ingredients']\n",
    "target = df['cuisine']"
   ]
  },
  {
   "cell_type": "code",
   "execution_count": 21,
   "metadata": {},
   "outputs": [
    {
     "data": {
      "text/plain": [
       "'romaine lettuce black olive grape tomato garlic pepper purple onion seasoning garbanzo bean feta cheese '"
      ]
     },
     "execution_count": 21,
     "metadata": {},
     "output_type": "execute_result"
    }
   ],
   "source": [
    "df['ingredients'][0]"
   ]
  },
  {
   "cell_type": "code",
   "execution_count": 22,
   "metadata": {},
   "outputs": [
    {
     "data": {
      "text/plain": [
       "0       baking powder egg all purpose flour raisin mil...\n",
       "1       sugar egg yolk corn starch cream of tartar ban...\n",
       "2       sausage link fennel bulb frond olive oil cuban...\n",
       "3       meat cut file powder smoked sausage okra shrim...\n",
       "4        black pepper salt sausage casing leek parmigi...\n",
       "                              ...                        \n",
       "9939    large egg yolk fresh lemon juice sugar bourbon...\n",
       "9940       hot sauce butter sweet potato adobo sauce salt\n",
       "9941    black pepper salt parmigiano reggiano cheese r...\n",
       "9942    cheddar cheese cayenne paprika plum tomato gre...\n",
       "9943    cold water olive oil lime wedge garlic clove b...\n",
       "Name: ingredients, Length: 9944, dtype: object"
      ]
     },
     "execution_count": 22,
     "metadata": {},
     "output_type": "execute_result"
    }
   ],
   "source": [
    "df_test['ingredients']"
   ]
  },
  {
   "cell_type": "code",
   "execution_count": 23,
   "metadata": {},
   "outputs": [],
   "source": [
    "def debugging_purpose(df):\n",
    "    ingredients = []\n",
    "    for x in df['ingredients']:\n",
    "        print(x)\n",
    "        for y in x:\n",
    "            ingredients.append(y)\n",
    "\n",
    "#debugging_purpose(df)"
   ]
  },
  {
   "cell_type": "code",
   "execution_count": 24,
   "metadata": {},
   "outputs": [],
   "source": [
    "# extracting the labels from the train data\n",
    "y = df.cuisine.values\n",
    "\n",
    "# %70 for training, %30 for test\n",
    "x_train, x_test, y_train, y_test = train_test_split(df.ingredients.values, y, \n",
    "                                                    stratify=y, \n",
    "                                                    random_state=1, \n",
    "                                                    test_size=0.3, shuffle=True)"
   ]
  },
  {
   "cell_type": "markdown",
   "metadata": {},
   "source": [
    "# Count Vectorizer"
   ]
  },
  {
   "cell_type": "markdown",
   "metadata": {},
   "source": [
    "We should be vectorizing our data since we are going to use Support Vector Machine later on."
   ]
  },
  {
   "cell_type": "code",
   "execution_count": null,
   "metadata": {},
   "outputs": [],
   "source": [
    "from sklearn.feature_extraction.text import CountVectorizer \n",
    "from pandas import DataFrame"
   ]
  },
  {
   "cell_type": "code",
   "execution_count": null,
   "metadata": {},
   "outputs": [],
   "source": [
    "def create_vect(document, vectorizer):\n",
    "    document = vectorizer.fit_transform(document)\n",
    "    return DataFrame(document.toarray(), columns=vectorizer.get_feature_names()), document"
   ]
  },
  {
   "cell_type": "code",
   "execution_count": null,
   "metadata": {},
   "outputs": [],
   "source": [
    "count_vect = CountVectorizer()"
   ]
  },
  {
   "cell_type": "code",
   "execution_count": null,
   "metadata": {},
   "outputs": [],
   "source": [
    "countV, train_countV = create_vect(train, count_vect)\n",
    "#as we can see here, we have some number values too. This is our count vector matrix. "
   ]
  },
  {
   "cell_type": "code",
   "execution_count": null,
   "metadata": {},
   "outputs": [],
   "source": [
    "countV.head(25)"
   ]
  },
  {
   "cell_type": "markdown",
   "metadata": {},
   "source": [
    "# TF-IDF Vectorizer"
   ]
  },
  {
   "cell_type": "markdown",
   "metadata": {},
   "source": [
    "We are vectorizing our data by their frequencies in order to use for Support Vector Machine."
   ]
  },
  {
   "cell_type": "code",
   "execution_count": 25,
   "metadata": {},
   "outputs": [],
   "source": [
    "from sklearn.feature_extraction.text import TfidfVectorizer "
   ]
  },
  {
   "cell_type": "code",
   "execution_count": 26,
   "metadata": {},
   "outputs": [],
   "source": [
    "def tfidf_vectorizer(train, test=None):\n",
    "    tfidf = TfidfVectorizer(stop_words='english',\n",
    "                             ngram_range = ( 1 , 1 ), analyzer=\"word\", \n",
    "                             max_df = .57, binary=False , token_pattern=r'\\w+' , sublinear_tf=False)\n",
    "    train = tfidf.fit_transform(train)\n",
    "    test = tfidf.transform(test)\n",
    "    return train, test, tfidf"
   ]
  },
  {
   "cell_type": "code",
   "execution_count": 27,
   "metadata": {},
   "outputs": [],
   "source": [
    "train_tfidf, test_tfidf, tfidf = tfidf_vectorizer(x_train,x_test)"
   ]
  },
  {
   "cell_type": "code",
   "execution_count": null,
   "metadata": {},
   "outputs": [],
   "source": [
    "show_tfidf = TfidfVectorizer()\n",
    "show_tfidf, train_tf2 = create_vect(train, show_tfidf)\n",
    "show_tfidf.head(20)"
   ]
  },
  {
   "cell_type": "code",
   "execution_count": null,
   "metadata": {},
   "outputs": [],
   "source": [
    "show_tfidf.tail(20)"
   ]
  },
  {
   "cell_type": "markdown",
   "metadata": {},
   "source": [
    "# Model Development: Support Vector Machine"
   ]
  },
  {
   "cell_type": "code",
   "execution_count": 28,
   "metadata": {},
   "outputs": [],
   "source": [
    "from sklearn.svm import LinearSVC, SVC \n",
    "from scipy import sparse"
   ]
  },
  {
   "cell_type": "markdown",
   "metadata": {},
   "source": [
    "I am going to use the TF-IDF vector. So count vector is not necessariy in here. "
   ]
  },
  {
   "cell_type": "code",
   "execution_count": 29,
   "metadata": {},
   "outputs": [],
   "source": [
    "x_train = train_tfidf\n",
    "x_test = test_tfidf\n",
    "param_grid = {'C': [0.001, 0.1, 1, 10, 50, 100, 500, 1000, 5000], 'penalty': ['l1','l2'],\n",
    "             'loss': ['hinge','squared hinge']} \n",
    "\n",
    "grid = GridSearchCV(LinearSVC(), param_grid, refit = True, verbose = 3, n_jobs=-1, scoring='f1_micro')"
   ]
  },
  {
   "cell_type": "code",
   "execution_count": 30,
   "metadata": {},
   "outputs": [
    {
     "name": "stdout",
     "output_type": "stream",
     "text": [
      "Fitting 5 folds for each of 36 candidates, totalling 180 fits\n"
     ]
    },
    {
     "name": "stderr",
     "output_type": "stream",
     "text": [
      "[Parallel(n_jobs=-1)]: Using backend LokyBackend with 8 concurrent workers.\n",
      "[Parallel(n_jobs=-1)]: Done  16 tasks      | elapsed:    1.4s\n",
      "[Parallel(n_jobs=-1)]: Done 112 tasks      | elapsed:   17.8s\n",
      "[Parallel(n_jobs=-1)]: Done 180 out of 180 | elapsed:  1.3min finished\n"
     ]
    },
    {
     "name": "stdout",
     "output_type": "stream",
     "text": [
      "Wall time: 1min 19s\n"
     ]
    },
    {
     "name": "stderr",
     "output_type": "stream",
     "text": [
      "c:\\users\\lenovo\\appdata\\local\\programs\\python\\python38\\lib\\site-packages\\sklearn\\svm\\_base.py:976: ConvergenceWarning: Liblinear failed to converge, increase the number of iterations.\n",
      "  warnings.warn(\"Liblinear failed to converge, increase \"\n"
     ]
    },
    {
     "data": {
      "text/plain": [
       "GridSearchCV(estimator=LinearSVC(), n_jobs=-1,\n",
       "             param_grid={'C': [0.001, 0.1, 1, 10, 50, 100, 500, 1000, 5000],\n",
       "                         'loss': ['hinge', 'squared hinge'],\n",
       "                         'penalty': ['l1', 'l2']},\n",
       "             scoring='f1_micro', verbose=3)"
      ]
     },
     "execution_count": 30,
     "metadata": {},
     "output_type": "execute_result"
    }
   ],
   "source": [
    "%%time\n",
    "grid.fit(x_train, y_train) "
   ]
  },
  {
   "cell_type": "code",
   "execution_count": 31,
   "metadata": {},
   "outputs": [
    {
     "data": {
      "text/plain": [
       "{'C': 1, 'loss': 'hinge', 'penalty': 'l2'}"
      ]
     },
     "execution_count": 31,
     "metadata": {},
     "output_type": "execute_result"
    }
   ],
   "source": [
    "grid.best_params_"
   ]
  },
  {
   "cell_type": "code",
   "execution_count": 32,
   "metadata": {},
   "outputs": [
    {
     "data": {
      "text/plain": [
       "0.7796778412620768"
      ]
     },
     "execution_count": 32,
     "metadata": {},
     "output_type": "execute_result"
    }
   ],
   "source": [
    "grid.best_score_"
   ]
  },
  {
   "cell_type": "code",
   "execution_count": 33,
   "metadata": {},
   "outputs": [],
   "source": [
    "#C is the penalty = cost \n",
    "#corresponding coefficient = gamma \n",
    "def evalfn(C, gamma):\n",
    "    s = SVC(C=float(C), gamma=float(gamma), kernel='rbf', class_weight='balanced')\n",
    "    f = cross_val_score(s, train, target, cv=5, scoring='f1_micro')\n",
    "    return f.max()"
   ]
  },
  {
   "cell_type": "code",
   "execution_count": 34,
   "metadata": {},
   "outputs": [],
   "source": [
    "from bayes_opt import BayesianOptimization\n",
    "from sklearn.model_selection import cross_val_score\n",
    "new_opt = BayesianOptimization(evalfn, {'C': (0.1, 1000),  \n",
    "              'gamma': (0.0001, 1)  })"
   ]
  },
  {
   "cell_type": "code",
   "execution_count": 35,
   "metadata": {},
   "outputs": [],
   "source": [
    "C = 604.5300203551828\n",
    "gamma = 0.9656489284085462\n",
    "\n",
    "clf = SVC(C=float(C), gamma=float(gamma), kernel='rbf')"
   ]
  },
  {
   "cell_type": "code",
   "execution_count": 36,
   "metadata": {},
   "outputs": [
    {
     "name": "stdout",
     "output_type": "stream",
     "text": [
      "Wall time: 1min 52s\n"
     ]
    },
    {
     "data": {
      "text/plain": [
       "SVC(C=604.5300203551828, gamma=0.9656489284085462)"
      ]
     },
     "execution_count": 36,
     "metadata": {},
     "output_type": "execute_result"
    }
   ],
   "source": [
    "%%time\n",
    "clf.fit(x_train, y_train)"
   ]
  },
  {
   "cell_type": "code",
   "execution_count": 37,
   "metadata": {},
   "outputs": [],
   "source": [
    "y_pred = clf.predict(x_test)"
   ]
  },
  {
   "cell_type": "code",
   "execution_count": null,
   "metadata": {},
   "outputs": [],
   "source": [
    "my_submission = pd.DataFrame({'id':test_ids})\n",
    "my_submission['cuisine'] = y_pred\n",
    "my_submission.to_csv('submission.csv', index=False)"
   ]
  },
  {
   "cell_type": "code",
   "execution_count": 38,
   "metadata": {},
   "outputs": [
    {
     "data": {
      "text/plain": [
       "array(['southern_us', 'southern_us', 'italian', ..., 'mexican', 'chinese',\n",
       "       'italian'], dtype=object)"
      ]
     },
     "execution_count": 38,
     "metadata": {},
     "output_type": "execute_result"
    }
   ],
   "source": [
    "y_pred"
   ]
  },
  {
   "cell_type": "markdown",
   "metadata": {},
   "source": [
    "Results"
   ]
  },
  {
   "cell_type": "code",
   "execution_count": 39,
   "metadata": {},
   "outputs": [
    {
     "name": "stdout",
     "output_type": "stream",
     "text": [
      "Accuracy score for SVC is:  80.39889382384983 %\n"
     ]
    }
   ],
   "source": [
    "print(\"Accuracy score for SVC is: \", accuracy_score(y_test, y_pred) * 100, '%')"
   ]
  },
  {
   "cell_type": "code",
   "execution_count": 41,
   "metadata": {},
   "outputs": [
    {
     "name": "stdout",
     "output_type": "stream",
     "text": [
      "              precision    recall  f1-score   support\n",
      "\n",
      "   brazilian       0.71      0.64      0.67       140\n",
      "     british       0.66      0.54      0.59       241\n",
      "cajun_creole       0.78      0.72      0.75       464\n",
      "     chinese       0.79      0.90      0.84       802\n",
      "    filipino       0.78      0.58      0.66       226\n",
      "      french       0.61      0.70      0.65       794\n",
      "       greek       0.77      0.74      0.75       352\n",
      "      indian       0.87      0.90      0.89       901\n",
      "       irish       0.71      0.57      0.64       200\n",
      "     italian       0.83      0.89      0.86      2352\n",
      "    jamaican       0.87      0.73      0.79       158\n",
      "    japanese       0.81      0.67      0.74       427\n",
      "      korean       0.89      0.82      0.85       249\n",
      "     mexican       0.91      0.92      0.92      1932\n",
      "    moroccan       0.88      0.77      0.82       246\n",
      "     russian       0.74      0.53      0.62       147\n",
      " southern_us       0.75      0.80      0.78      1296\n",
      "     spanish       0.69      0.54      0.61       297\n",
      "        thai       0.81      0.78      0.80       462\n",
      "  vietnamese       0.74      0.57      0.64       247\n",
      "\n",
      "    accuracy                           0.80     11933\n",
      "   macro avg       0.78      0.72      0.74     11933\n",
      "weighted avg       0.80      0.80      0.80     11933\n",
      "\n"
     ]
    }
   ],
   "source": [
    "print(classification_report(y_test,y_pred))"
   ]
  },
  {
   "cell_type": "code",
   "execution_count": 54,
   "metadata": {},
   "outputs": [
    {
     "name": "stdout",
     "output_type": "stream",
     "text": [
      "[[  89    0    1    0    4    6    0    0    0    7    2    0    0   13\n",
      "     0    0   10    5    3    0]\n",
      " [   0  129    2    1    0   40    2    4   16   13    1    2    0    0\n",
      "     0    2   29    0    0    0]\n",
      " [   1    2  333    2    1   12    0    0    1   22    2    0    1   10\n",
      "     0    1   70    6    0    0]\n",
      " [   0    0    3  718    6    2    1    1    0    7    1   22    9    3\n",
      "     0    1    9    0   10    9]\n",
      " [   7    3    0   28  131    6    0    6    2    1    1    3    2   10\n",
      "     0    0    9    3    5    9]\n",
      " [   0    6    5    2    2  554    7    5    8  135    0    1    0    8\n",
      "     5    7   44    5    0    0]\n",
      " [   1    1    0    2    1   13  259    3    1   53    0    0    0    1\n",
      "     4    0    5    8    0    0]\n",
      " [   3    4    2    5    0    2    8  812    0    4    1   10    0   17\n",
      "    13    3    4    0   12    1]\n",
      " [   0   17    0    1    0   18    1    1  115   10    0    0    0    2\n",
      "     0    2   30    3    0    0]\n",
      " [   1    9    7    5    4  113   34    4    2 2100    0    3    1   17\n",
      "     3    2   40    7    0    0]\n",
      " [   1    4    2    3    1    2    0    5    3    4  116    1    0    3\n",
      "     0    1   11    0    1    0]\n",
      " [   1    1    0   42    2    7    1   43    1   14    1  288    7    4\n",
      "     0    1    9    0    5    0]\n",
      " [   0    0    0   27    1    0    0    1    0    2    0   13  203    0\n",
      "     0    0    1    1    0    0]\n",
      " [   9    2    7    5    3   17    6    9    0   37    5    1    0 1777\n",
      "     0    1   35   16    2    0]\n",
      " [   1    0    0    0    0    5    6   11    0   12    1    0    0    7\n",
      "   190    0    3    8    1    1]\n",
      " [   0    1    1    1    0   22    2    3    2   17    0    0    1    4\n",
      "     0   78   13    2    0    0]\n",
      " [   4   14   55    4    1   54    2    7   10   43    3    2    0   40\n",
      "     2    5 1040    8    1    1]\n",
      " [   5    1    6    1    2   27    4    2    1   52    0    0    0   25\n",
      "     0    1    9  161    0    0]\n",
      " [   0    0    0   31    3    0    1   12    0    6    0    4    2    7\n",
      "     0    0    6    0  361   29]\n",
      " [   2    2    1   30    6    6    1    3    0    4    0    4    2    2\n",
      "     0    0    2    0   42  140]]\n"
     ]
    }
   ],
   "source": [
    "print(confusion_matrix(y_test, y_pred))"
   ]
  },
  {
   "cell_type": "code",
   "execution_count": null,
   "metadata": {},
   "outputs": [],
   "source": [
    "# for kaggle, we can make a submission, however this submission is not necessary\n",
    "# since the competition is already closed. Also it takes so much time to compute.  "
   ]
  },
  {
   "cell_type": "markdown",
   "metadata": {},
   "source": [
    "# Model Development: Naive Bayes "
   ]
  },
  {
   "cell_type": "code",
   "execution_count": 50,
   "metadata": {},
   "outputs": [],
   "source": [
    "from sklearn.naive_bayes import MultinomialNB\n",
    "from sklearn.pipeline import make_pipeline\n",
    "\n",
    "x_train = train_tfidf\n",
    "x_test = test_tfidf\n",
    "classifier = MultinomialNB()"
   ]
  },
  {
   "cell_type": "code",
   "execution_count": 51,
   "metadata": {},
   "outputs": [],
   "source": [
    "classifier = classifier.fit(x_train, y_train)"
   ]
  },
  {
   "cell_type": "code",
   "execution_count": 52,
   "metadata": {},
   "outputs": [],
   "source": [
    "y_pred_bayes = classifier.predict(x_test)"
   ]
  },
  {
   "cell_type": "code",
   "execution_count": 64,
   "metadata": {},
   "outputs": [
    {
     "name": "stdout",
     "output_type": "stream",
     "text": [
      "Accuracy score for Naive Bayes is:  66.97393781949216 %\n"
     ]
    }
   ],
   "source": [
    "print(\"Accuracy score for Naive Bayes is: \", accuracy_score(y_test, y_pred_bayes) * 100, '%')"
   ]
  },
  {
   "cell_type": "code",
   "execution_count": 55,
   "metadata": {},
   "outputs": [
    {
     "name": "stdout",
     "output_type": "stream",
     "text": [
      "              precision    recall  f1-score   support\n",
      "\n",
      "   brazilian       0.96      0.19      0.32       140\n",
      "     british       0.80      0.05      0.09       241\n",
      "cajun_creole       0.78      0.52      0.62       464\n",
      "     chinese       0.60      0.93      0.73       802\n",
      "    filipino       0.92      0.11      0.19       226\n",
      "      french       0.53      0.42      0.47       794\n",
      "       greek       0.86      0.29      0.44       352\n",
      "      indian       0.75      0.89      0.82       901\n",
      "       irish       0.91      0.05      0.09       200\n",
      "     italian       0.65      0.90      0.75      2352\n",
      "    jamaican       1.00      0.14      0.24       158\n",
      "    japanese       0.94      0.53      0.68       427\n",
      "      korean       0.97      0.36      0.52       249\n",
      "     mexican       0.79      0.91      0.85      1932\n",
      "    moroccan       0.93      0.33      0.49       246\n",
      "     russian       1.00      0.02      0.04       147\n",
      " southern_us       0.50      0.78      0.61      1296\n",
      "     spanish       0.95      0.12      0.21       297\n",
      "        thai       0.68      0.71      0.70       462\n",
      "  vietnamese       0.89      0.16      0.27       247\n",
      "\n",
      "    accuracy                           0.67     11933\n",
      "   macro avg       0.82      0.42      0.46     11933\n",
      "weighted avg       0.73      0.67      0.63     11933\n",
      "\n"
     ]
    }
   ],
   "source": [
    "print(classification_report(y_test,y_pred_bayes))"
   ]
  },
  {
   "cell_type": "code",
   "execution_count": 56,
   "metadata": {},
   "outputs": [
    {
     "name": "stdout",
     "output_type": "stream",
     "text": [
      "[[  27    0    4    0    0    2    0    8    0   12    0    0    0   39\n",
      "     0    0   38    1    9    0]\n",
      " [   0   12    0    0    0   57    0    9    1   42    0    1    0    4\n",
      "     0    0  115    0    0    0]\n",
      " [   0    0  240    3    0   10    0    2    0   66    0    0    0   45\n",
      "     0    0   98    0    0    0]\n",
      " [   0    0    0  745    0    3    0    1    0   10    0    2    0   11\n",
      "     0    0   19    0    9    2]\n",
      " [   1    0    0   89   24    3    0    8    0   21    0    1    1   22\n",
      "     0    0   43    0   13    0]\n",
      " [   0    1    3    0    0  330    2    4    0  306    0    0    0   12\n",
      "     1    0  135    0    0    0]\n",
      " [   0    0    0    1    0   12  103   16    0  193    0    0    0   12\n",
      "     1    0   14    0    0    0]\n",
      " [   0    0    1    4    0    2    4  802    0   23    0    0    0   27\n",
      "     3    0   25    0    9    1]\n",
      " [   0    0    0    1    0   24    0    5   10   36    0    0    0   14\n",
      "     0    0  110    0    0    0]\n",
      " [   0    0    2    2    0   92    3    2    0 2108    0    0    0   21\n",
      "     1    0  120    1    0    0]\n",
      " [   0    1    5    6    0    3    0   20    0    8   22    0    0   41\n",
      "     0    0   49    0    3    0]\n",
      " [   0    0    0   93    0    5    0   48    0   18    0  225    2   10\n",
      "     0    0   22    0    4    0]\n",
      " [   0    0    0  138    0    0    0    1    0    5    0    6   89    5\n",
      "     0    0    5    0    0    0]\n",
      " [   0    0    1    6    0    7    0    8    0   47    0    0    0 1760\n",
      "     0    0  101    0    2    0]\n",
      " [   0    0    0    0    0    4    2   85    0   41    0    0    0   17\n",
      "    82    0   15    0    0    0]\n",
      " [   0    1    0    0    0   35    3    3    0   37    0    0    0   17\n",
      "     0    3   48    0    0    0]\n",
      " [   0    0   44   12    0   17    3   11    0  106    0    1    0   93\n",
      "     0    0 1008    0    1    0]\n",
      " [   0    0    6    0    0   15    0    1    0  158    0    0    0   47\n",
      "     0    0   34   36    0    0]\n",
      " [   0    0    0   74    0    0    0   26    0    5    0    1    0   16\n",
      "     0    0   11    0  327    2]\n",
      " [   0    0    0   72    2    2    0    6    0    7    0    2    0    8\n",
      "     0    0    7    0  102   39]]\n"
     ]
    }
   ],
   "source": [
    "print(confusion_matrix(y_test, y_pred_bayes))"
   ]
  },
  {
   "cell_type": "markdown",
   "metadata": {},
   "source": [
    "# Model Development: LogisticRegression"
   ]
  },
  {
   "cell_type": "code",
   "execution_count": 66,
   "metadata": {},
   "outputs": [],
   "source": [
    "from sklearn.linear_model import LogisticRegression"
   ]
  },
  {
   "cell_type": "code",
   "execution_count": 67,
   "metadata": {},
   "outputs": [
    {
     "name": "stdout",
     "output_type": "stream",
     "text": [
      "Wall time: 20.5 s\n"
     ]
    },
    {
     "data": {
      "text/plain": [
       "LogisticRegression()"
      ]
     },
     "execution_count": 67,
     "metadata": {},
     "output_type": "execute_result"
    }
   ],
   "source": [
    "%%time\n",
    "x_train = train_tfidf\n",
    "x_test = test_tfidf\n",
    "\n",
    "lr=LogisticRegression()\n",
    "lr.fit(x_train,y_train)"
   ]
  },
  {
   "cell_type": "code",
   "execution_count": 68,
   "metadata": {},
   "outputs": [
    {
     "data": {
      "text/plain": [
       "0.780356993212101"
      ]
     },
     "execution_count": 68,
     "metadata": {},
     "output_type": "execute_result"
    }
   ],
   "source": [
    "lr.score(x_test,y_test)"
   ]
  },
  {
   "cell_type": "code",
   "execution_count": 69,
   "metadata": {},
   "outputs": [],
   "source": [
    "y_pred_lr = lr.predict(x_test)"
   ]
  },
  {
   "cell_type": "code",
   "execution_count": 72,
   "metadata": {},
   "outputs": [
    {
     "name": "stdout",
     "output_type": "stream",
     "text": [
      "Accuracy score for Logistic Regression is:  78.03569932121009 %\n"
     ]
    }
   ],
   "source": [
    "print(\"Accuracy score for Logistic Regression is: \", accuracy_score(y_test, y_pred_lr) * 100, '%')"
   ]
  },
  {
   "cell_type": "code",
   "execution_count": 73,
   "metadata": {},
   "outputs": [
    {
     "name": "stdout",
     "output_type": "stream",
     "text": [
      "              precision    recall  f1-score   support\n",
      "\n",
      "   brazilian       0.72      0.48      0.58       140\n",
      "     british       0.63      0.36      0.46       241\n",
      "cajun_creole       0.76      0.67      0.71       464\n",
      "     chinese       0.78      0.89      0.83       802\n",
      "    filipino       0.74      0.50      0.59       226\n",
      "      french       0.60      0.66      0.63       794\n",
      "       greek       0.77      0.66      0.71       352\n",
      "      indian       0.85      0.89      0.87       901\n",
      "       irish       0.70      0.49      0.57       200\n",
      "     italian       0.80      0.90      0.85      2352\n",
      "    jamaican       0.86      0.68      0.76       158\n",
      "    japanese       0.85      0.66      0.74       427\n",
      "      korean       0.87      0.75      0.80       249\n",
      "     mexican       0.90      0.92      0.91      1932\n",
      "    moroccan       0.86      0.74      0.80       246\n",
      "     russian       0.72      0.41      0.52       147\n",
      " southern_us       0.68      0.80      0.73      1296\n",
      "     spanish       0.64      0.45      0.53       297\n",
      "        thai       0.78      0.74      0.76       462\n",
      "  vietnamese       0.70      0.51      0.59       247\n",
      "\n",
      "    accuracy                           0.78     11933\n",
      "   macro avg       0.76      0.66      0.70     11933\n",
      "weighted avg       0.78      0.78      0.77     11933\n",
      "\n"
     ]
    }
   ],
   "source": [
    "print(classification_report(y_test,y_pred_lr))"
   ]
  },
  {
   "cell_type": "markdown",
   "metadata": {},
   "source": [
    "# Model Development: Multi Layer Perceptron (MLP)"
   ]
  },
  {
   "cell_type": "code",
   "execution_count": 87,
   "metadata": {},
   "outputs": [],
   "source": [
    "from sklearn.neural_network import MLPClassifier\n",
    "\n",
    "x_train = train_tfidf\n",
    "x_test = test_tfidf"
   ]
  },
  {
   "cell_type": "code",
   "execution_count": 92,
   "metadata": {},
   "outputs": [],
   "source": [
    "clf = MLPClassifier(solver='adam', alpha=0.001, hidden_layer_sizes=(100,100,100),random_state=1, activation='logistic' ,early_stopping = False)"
   ]
  },
  {
   "cell_type": "code",
   "execution_count": 93,
   "metadata": {},
   "outputs": [
    {
     "name": "stdout",
     "output_type": "stream",
     "text": [
      "Wall time: 16min 2s\n"
     ]
    },
    {
     "data": {
      "text/plain": [
       "MLPClassifier(activation='logistic', alpha=0.001,\n",
       "              hidden_layer_sizes=(100, 100, 100), random_state=1)"
      ]
     },
     "execution_count": 93,
     "metadata": {},
     "output_type": "execute_result"
    }
   ],
   "source": [
    "%%time\n",
    "clf.fit(x_train,y_train)"
   ]
  },
  {
   "cell_type": "code",
   "execution_count": 94,
   "metadata": {},
   "outputs": [
    {
     "name": "stdout",
     "output_type": "stream",
     "text": [
      "Wall time: 126 ms\n"
     ]
    }
   ],
   "source": [
    "%%time\n",
    "y_pred_mlp = clf.predict(x_test)"
   ]
  },
  {
   "cell_type": "code",
   "execution_count": 95,
   "metadata": {},
   "outputs": [
    {
     "name": "stdout",
     "output_type": "stream",
     "text": [
      "Accuracy score for MLP is:  74.80935221654235 %\n"
     ]
    }
   ],
   "source": [
    "print(\"Accuracy score for MLP is: \", accuracy_score(y_test, y_pred_mlp) * 100, '%')"
   ]
  },
  {
   "cell_type": "code",
   "execution_count": null,
   "metadata": {},
   "outputs": [],
   "source": []
  }
 ],
 "metadata": {
  "kernelspec": {
   "display_name": "Python 3",
   "language": "python",
   "name": "python3"
  },
  "language_info": {
   "codemirror_mode": {
    "name": "ipython",
    "version": 3
   },
   "file_extension": ".py",
   "mimetype": "text/x-python",
   "name": "python",
   "nbconvert_exporter": "python",
   "pygments_lexer": "ipython3",
   "version": "3.8.0"
  }
 },
 "nbformat": 4,
 "nbformat_minor": 4
}
